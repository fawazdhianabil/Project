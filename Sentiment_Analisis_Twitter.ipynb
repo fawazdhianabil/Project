{
  "cells": [
    {
      "cell_type": "markdown",
      "metadata": {
        "id": "view-in-github",
        "colab_type": "text"
      },
      "source": [
        "<a href=\"https://colab.research.google.com/github/fawazdhianabil/Project/blob/main/Sentiment_Analisis_Twitter.ipynb\" target=\"_parent\"><img src=\"https://colab.research.google.com/assets/colab-badge.svg\" alt=\"Open In Colab\"/></a>"
      ]
    },
    {
      "cell_type": "markdown",
      "metadata": {
        "id": "xX2cGkqjeKZz"
      },
      "source": [
        "### Import Library"
      ]
    },
    {
      "cell_type": "code",
      "source": [
        "!pip install nlp-id"
      ],
      "metadata": {
        "colab": {
          "base_uri": "https://localhost:8080/"
        },
        "id": "drOX-JzOwb_d",
        "outputId": "87b81754-f0cd-46d6-b97a-f011ddc5082e"
      },
      "execution_count": 1,
      "outputs": [
        {
          "output_type": "stream",
          "name": "stdout",
          "text": [
            "Looking in indexes: https://pypi.org/simple, https://us-python.pkg.dev/colab-wheels/public/simple/\n",
            "Requirement already satisfied: nlp-id in /usr/local/lib/python3.7/dist-packages (0.1.12.0)\n",
            "Requirement already satisfied: scikit-learn==0.22 in /usr/local/lib/python3.7/dist-packages (from nlp-id) (0.22)\n",
            "Requirement already satisfied: wget==3.2 in /usr/local/lib/python3.7/dist-packages (from nlp-id) (3.2)\n",
            "Requirement already satisfied: nltk==3.4.5 in /usr/local/lib/python3.7/dist-packages (from nlp-id) (3.4.5)\n",
            "Requirement already satisfied: six in /usr/local/lib/python3.7/dist-packages (from nltk==3.4.5->nlp-id) (1.15.0)\n",
            "Requirement already satisfied: joblib>=0.11 in /usr/local/lib/python3.7/dist-packages (from scikit-learn==0.22->nlp-id) (1.1.0)\n",
            "Requirement already satisfied: numpy>=1.11.0 in /usr/local/lib/python3.7/dist-packages (from scikit-learn==0.22->nlp-id) (1.21.6)\n",
            "Requirement already satisfied: scipy>=0.17.0 in /usr/local/lib/python3.7/dist-packages (from scikit-learn==0.22->nlp-id) (1.7.3)\n"
          ]
        }
      ]
    },
    {
      "cell_type": "code",
      "source": [
        "!pip install Sastrawi"
      ],
      "metadata": {
        "colab": {
          "base_uri": "https://localhost:8080/"
        },
        "id": "vRRctDZKwqsu",
        "outputId": "5ba2f70b-b0e4-4643-dbb3-7b2333cc44b0"
      },
      "execution_count": 2,
      "outputs": [
        {
          "output_type": "stream",
          "name": "stdout",
          "text": [
            "Looking in indexes: https://pypi.org/simple, https://us-python.pkg.dev/colab-wheels/public/simple/\n",
            "Requirement already satisfied: Sastrawi in /usr/local/lib/python3.7/dist-packages (1.0.1)\n"
          ]
        }
      ]
    },
    {
      "cell_type": "code",
      "execution_count": 3,
      "metadata": {
        "id": "qVwA1RAheKZ0"
      },
      "outputs": [],
      "source": [
        "import pandas as pd\n",
        "import numpy as np\n",
        "import re     \n",
        "import matplotlib.pyplot as plt\n",
        "import csv\n",
        "import sys\n",
        "from nlp_id.lemmatizer import Lemmatizer \n",
        "lemmatizer = Lemmatizer() \n",
        "from Sastrawi.Stemmer.StemmerFactory import StemmerFactory\n",
        "import string, unicodedata\n",
        "from nlp_id.stopword import StopWord\n",
        "from sklearn.model_selection import GridSearchCV\n",
        "\n",
        "if not sys.warnoptions:\n",
        "    import warnings\n",
        "    warnings.simplefilter(\"ignore\")"
      ]
    },
    {
      "cell_type": "markdown",
      "metadata": {
        "id": "N_nRRENLeKZ3"
      },
      "source": [
        "#**Import Data**"
      ]
    },
    {
      "cell_type": "code",
      "execution_count": 4,
      "metadata": {
        "scrolled": true,
        "id": "rOhX4rC2eKZ3"
      },
      "outputs": [],
      "source": [
        "df = pd.read_excel('dataset_indihome.xlsx')"
      ]
    },
    {
      "cell_type": "code",
      "source": [
        "df =df[0:5000]"
      ],
      "metadata": {
        "id": "sfEs3nEsReHj"
      },
      "execution_count": 5,
      "outputs": []
    },
    {
      "cell_type": "markdown",
      "source": [
        "#**Preprocessing**"
      ],
      "metadata": {
        "id": "n6_ju1tByr5m"
      }
    },
    {
      "cell_type": "markdown",
      "metadata": {
        "id": "M_N2Q9FEeKZ6"
      },
      "source": [
        "### Menghapus Baris Terduplikasi"
      ]
    },
    {
      "cell_type": "code",
      "execution_count": 6,
      "metadata": {
        "id": "Xf8ICM1jeKZ7",
        "outputId": "774e28d8-b829-4072-e22c-c9ea7077690e",
        "colab": {
          "base_uri": "https://localhost:8080/",
          "height": 887
        }
      },
      "outputs": [
        {
          "output_type": "execute_result",
          "data": {
            "text/plain": [
              "      Unnamed: 0  Unnamed: 0.1  \\\n",
              "0              0             0   \n",
              "1              1             1   \n",
              "2              2             2   \n",
              "3              3             3   \n",
              "4              4             4   \n",
              "...          ...           ...   \n",
              "4995        4995          4995   \n",
              "4996        4996          4996   \n",
              "4997        4997          4997   \n",
              "4998        4998          4998   \n",
              "4999        4999          4999   \n",
              "\n",
              "                                                    url  \\\n",
              "0     https://twitter.com/Denise_Tweety/status/15089...   \n",
              "1     https://twitter.com/Anzlnahrvi/status/15089563...   \n",
              "2     https://twitter.com/muhamma09485383/status/150...   \n",
              "3     https://twitter.com/kinosukina/status/15089555...   \n",
              "4     https://twitter.com/kinosukina/status/15089545...   \n",
              "...                                                 ...   \n",
              "4995  https://twitter.com/orangkasa/status/150737844...   \n",
              "4996  https://twitter.com/olivia9iant/status/1507378...   \n",
              "4997  https://twitter.com/jooyeonsyg/status/15073781...   \n",
              "4998  https://twitter.com/dkyeo_om/status/1507377504...   \n",
              "4999  https://twitter.com/IndiHomeCare/status/150737...   \n",
              "\n",
              "                           date  \\\n",
              "0     2022-03-29 23:57:46+00:00   \n",
              "1     2022-03-29 23:56:53+00:00   \n",
              "2     2022-03-29 23:54:57+00:00   \n",
              "3     2022-03-29 23:53:32+00:00   \n",
              "4     2022-03-29 23:49:46+00:00   \n",
              "...                         ...   \n",
              "4995  2022-03-25 15:26:41+00:00   \n",
              "4996  2022-03-25 15:26:04+00:00   \n",
              "4997  2022-03-25 15:25:38+00:00   \n",
              "4998  2022-03-25 15:22:57+00:00   \n",
              "4999  2022-03-25 15:22:29+00:00   \n",
              "\n",
              "                                                content  \\\n",
              "0     sinting nih @FirstMediaCares  seminggu wifi je...   \n",
              "1                 Indihome pagi pagi bikin emosi anying   \n",
              "2     Selamat pagi teman teman, mau ngasih info nih ...   \n",
              "3     Bila kita membiasakan diri dengan sifat pemaaf...   \n",
              "4     Alhamdulillah....\\nRabu pagi ini cuaca cerah\\n...   \n",
              "...                                                 ...   \n",
              "4995                    @crybely @sbyfess kaum indihome   \n",
              "4996  Min @IndiHome ga tertolong ya min, sampe calen...   \n",
              "4997                         indihome ngeselin bangettt   \n",
              "4998  euh kayaknya tl gue gak muncul karena pake ind...   \n",
              "4999  @accientsys Hai, Sobat. Silakan kirimkan nomor...   \n",
              "\n",
              "                                        renderedContent            id  \\\n",
              "0     sinting nih @FirstMediaCares  seminggu wifi je...  1.508957e+18   \n",
              "1                 Indihome pagi pagi bikin emosi anying  1.508956e+18   \n",
              "2     Selamat pagi teman teman, mau ngasih info nih ...  1.508956e+18   \n",
              "3     Bila kita membiasakan diri dengan sifat pemaaf...  1.508956e+18   \n",
              "4     Alhamdulillah....\\nRabu pagi ini cuaca cerah\\n...  1.508955e+18   \n",
              "...                                                 ...           ...   \n",
              "4995                    @crybely @sbyfess kaum indihome  1.507378e+18   \n",
              "4996  Min @IndiHome ga tertolong ya min, sampe calen...  1.507378e+18   \n",
              "4997                         indihome ngeselin bangettt  1.507378e+18   \n",
              "4998  euh kayaknya tl gue gak muncul karena pake ind...  1.507378e+18   \n",
              "4999  @accientsys Hai, Sobat. Silakan kirimkan nomor...  1.507377e+18   \n",
              "\n",
              "                                                   user  replyCount  \\\n",
              "0     {'username': 'Denise_Tweety', 'id': 51407976, ...           1   \n",
              "1     {'username': 'Anzlnahrvi', 'id': 1498572765816...           0   \n",
              "2     {'username': 'muhamma09485383', 'id': 14873251...           0   \n",
              "3     {'username': 'kinosukina', 'id': 2602416942, '...           0   \n",
              "4     {'username': 'kinosukina', 'id': 2602416942, '...           0   \n",
              "...                                                 ...         ...   \n",
              "4995  {'username': 'orangkasa', 'id': 11031636632742...           1   \n",
              "4996  {'username': 'olivia9iant', 'id': 76344889, 'd...           0   \n",
              "4997  {'username': 'jooyeonsyg', 'id': 1471143100361...           0   \n",
              "4998  {'username': 'dkyeo_om', 'id': 135645299391526...           0   \n",
              "4999  {'username': 'IndiHomeCare', 'id': 76503520089...           0   \n",
              "\n",
              "      retweetCount  ...                                              media  \\\n",
              "0                0  ...                                                NaN   \n",
              "1                0  ...                                                NaN   \n",
              "2                0  ...  [{'thumbnailUrl': 'https://pbs.twimg.com/ext_t...   \n",
              "3                0  ...  [{'previewUrl': 'https://pbs.twimg.com/media/F...   \n",
              "4                0  ...  [{'previewUrl': 'https://pbs.twimg.com/media/F...   \n",
              "...            ...  ...                                                ...   \n",
              "4995             0  ...                                                NaN   \n",
              "4996             0  ...  [{'previewUrl': 'https://pbs.twimg.com/media/F...   \n",
              "4997             0  ...                                                NaN   \n",
              "4998             0  ...                                                NaN   \n",
              "4999             0  ...                                                NaN   \n",
              "\n",
              "      retweetedTweet  quotedTweet inReplyToTweetId  \\\n",
              "0                NaN          NaN              NaN   \n",
              "1                NaN          NaN              NaN   \n",
              "2                NaN          NaN              NaN   \n",
              "3                NaN          NaN              NaN   \n",
              "4                NaN          NaN              NaN   \n",
              "...              ...          ...              ...   \n",
              "4995             NaN          NaN     1.507378e+18   \n",
              "4996             NaN          NaN              NaN   \n",
              "4997             NaN          NaN              NaN   \n",
              "4998             NaN          NaN              NaN   \n",
              "4999             NaN          NaN     1.507356e+18   \n",
              "\n",
              "                                          inReplyToUser  \\\n",
              "0                                                   NaN   \n",
              "1                                                   NaN   \n",
              "2                                                   NaN   \n",
              "3                                                   NaN   \n",
              "4                                                   NaN   \n",
              "...                                                 ...   \n",
              "4995  {'username': 'crybely', 'id': 1312781156035649...   \n",
              "4996                                                NaN   \n",
              "4997                                                NaN   \n",
              "4998                                                NaN   \n",
              "4999  {'username': 'accientsys', 'id': 1449445977312...   \n",
              "\n",
              "                                         mentionedUsers  \\\n",
              "0     [{'username': 'FirstMediaCares', 'id': 1557875...   \n",
              "1                                                   NaN   \n",
              "2                                                   NaN   \n",
              "3                                                   NaN   \n",
              "4                                                   NaN   \n",
              "...                                                 ...   \n",
              "4995  [{'username': 'crybely', 'id': 131278115603564...   \n",
              "4996  [{'username': 'IndiHome', 'id': 10756730589318...   \n",
              "4997                                                NaN   \n",
              "4998                                                NaN   \n",
              "4999  [{'username': 'accientsys', 'id': 144944597731...   \n",
              "\n",
              "                                           coordinates  \\\n",
              "0                                                  NaN   \n",
              "1                                                  NaN   \n",
              "2                                                  NaN   \n",
              "3     {'longitude': 110.006125, 'latitude': -8.206926}   \n",
              "4     {'longitude': 110.006125, 'latitude': -8.206926}   \n",
              "...                                                ...   \n",
              "4995                                               NaN   \n",
              "4996                                               NaN   \n",
              "4997                                               NaN   \n",
              "4998                                               NaN   \n",
              "4999                                               NaN   \n",
              "\n",
              "                                                  place  \\\n",
              "0                                                   NaN   \n",
              "1                                                   NaN   \n",
              "2                                                   NaN   \n",
              "3     {'fullName': 'Yogyakarta, Indonesia', 'name': ...   \n",
              "4     {'fullName': 'Yogyakarta, Indonesia', 'name': ...   \n",
              "...                                                 ...   \n",
              "4995                                                NaN   \n",
              "4996                                                NaN   \n",
              "4997                                                NaN   \n",
              "4998                                                NaN   \n",
              "4999                                                NaN   \n",
              "\n",
              "                                             hashtags cashtags  \n",
              "0                                                 NaN      NaN  \n",
              "1                                                 NaN      NaN  \n",
              "2     ['AktivitasTanpaBatas', 'InternetnyaIndonesia']      NaN  \n",
              "3                                                 NaN      NaN  \n",
              "4                                                 NaN      NaN  \n",
              "...                                               ...      ...  \n",
              "4995                                              NaN      NaN  \n",
              "4996                                              NaN      NaN  \n",
              "4997                                              NaN      NaN  \n",
              "4998                                              NaN      NaN  \n",
              "4999                                              NaN      NaN  \n",
              "\n",
              "[5000 rows x 29 columns]"
            ],
            "text/html": [
              "\n",
              "  <div id=\"df-45080d38-7957-4d49-9bc9-fc5d65465d30\">\n",
              "    <div class=\"colab-df-container\">\n",
              "      <div>\n",
              "<style scoped>\n",
              "    .dataframe tbody tr th:only-of-type {\n",
              "        vertical-align: middle;\n",
              "    }\n",
              "\n",
              "    .dataframe tbody tr th {\n",
              "        vertical-align: top;\n",
              "    }\n",
              "\n",
              "    .dataframe thead th {\n",
              "        text-align: right;\n",
              "    }\n",
              "</style>\n",
              "<table border=\"1\" class=\"dataframe\">\n",
              "  <thead>\n",
              "    <tr style=\"text-align: right;\">\n",
              "      <th></th>\n",
              "      <th>Unnamed: 0</th>\n",
              "      <th>Unnamed: 0.1</th>\n",
              "      <th>url</th>\n",
              "      <th>date</th>\n",
              "      <th>content</th>\n",
              "      <th>renderedContent</th>\n",
              "      <th>id</th>\n",
              "      <th>user</th>\n",
              "      <th>replyCount</th>\n",
              "      <th>retweetCount</th>\n",
              "      <th>...</th>\n",
              "      <th>media</th>\n",
              "      <th>retweetedTweet</th>\n",
              "      <th>quotedTweet</th>\n",
              "      <th>inReplyToTweetId</th>\n",
              "      <th>inReplyToUser</th>\n",
              "      <th>mentionedUsers</th>\n",
              "      <th>coordinates</th>\n",
              "      <th>place</th>\n",
              "      <th>hashtags</th>\n",
              "      <th>cashtags</th>\n",
              "    </tr>\n",
              "  </thead>\n",
              "  <tbody>\n",
              "    <tr>\n",
              "      <th>0</th>\n",
              "      <td>0</td>\n",
              "      <td>0</td>\n",
              "      <td>https://twitter.com/Denise_Tweety/status/15089...</td>\n",
              "      <td>2022-03-29 23:57:46+00:00</td>\n",
              "      <td>sinting nih @FirstMediaCares  seminggu wifi je...</td>\n",
              "      <td>sinting nih @FirstMediaCares  seminggu wifi je...</td>\n",
              "      <td>1.508957e+18</td>\n",
              "      <td>{'username': 'Denise_Tweety', 'id': 51407976, ...</td>\n",
              "      <td>1</td>\n",
              "      <td>0</td>\n",
              "      <td>...</td>\n",
              "      <td>NaN</td>\n",
              "      <td>NaN</td>\n",
              "      <td>NaN</td>\n",
              "      <td>NaN</td>\n",
              "      <td>NaN</td>\n",
              "      <td>[{'username': 'FirstMediaCares', 'id': 1557875...</td>\n",
              "      <td>NaN</td>\n",
              "      <td>NaN</td>\n",
              "      <td>NaN</td>\n",
              "      <td>NaN</td>\n",
              "    </tr>\n",
              "    <tr>\n",
              "      <th>1</th>\n",
              "      <td>1</td>\n",
              "      <td>1</td>\n",
              "      <td>https://twitter.com/Anzlnahrvi/status/15089563...</td>\n",
              "      <td>2022-03-29 23:56:53+00:00</td>\n",
              "      <td>Indihome pagi pagi bikin emosi anying</td>\n",
              "      <td>Indihome pagi pagi bikin emosi anying</td>\n",
              "      <td>1.508956e+18</td>\n",
              "      <td>{'username': 'Anzlnahrvi', 'id': 1498572765816...</td>\n",
              "      <td>0</td>\n",
              "      <td>0</td>\n",
              "      <td>...</td>\n",
              "      <td>NaN</td>\n",
              "      <td>NaN</td>\n",
              "      <td>NaN</td>\n",
              "      <td>NaN</td>\n",
              "      <td>NaN</td>\n",
              "      <td>NaN</td>\n",
              "      <td>NaN</td>\n",
              "      <td>NaN</td>\n",
              "      <td>NaN</td>\n",
              "      <td>NaN</td>\n",
              "    </tr>\n",
              "    <tr>\n",
              "      <th>2</th>\n",
              "      <td>2</td>\n",
              "      <td>2</td>\n",
              "      <td>https://twitter.com/muhamma09485383/status/150...</td>\n",
              "      <td>2022-03-29 23:54:57+00:00</td>\n",
              "      <td>Selamat pagi teman teman, mau ngasih info nih ...</td>\n",
              "      <td>Selamat pagi teman teman, mau ngasih info nih ...</td>\n",
              "      <td>1.508956e+18</td>\n",
              "      <td>{'username': 'muhamma09485383', 'id': 14873251...</td>\n",
              "      <td>0</td>\n",
              "      <td>0</td>\n",
              "      <td>...</td>\n",
              "      <td>[{'thumbnailUrl': 'https://pbs.twimg.com/ext_t...</td>\n",
              "      <td>NaN</td>\n",
              "      <td>NaN</td>\n",
              "      <td>NaN</td>\n",
              "      <td>NaN</td>\n",
              "      <td>NaN</td>\n",
              "      <td>NaN</td>\n",
              "      <td>NaN</td>\n",
              "      <td>['AktivitasTanpaBatas', 'InternetnyaIndonesia']</td>\n",
              "      <td>NaN</td>\n",
              "    </tr>\n",
              "    <tr>\n",
              "      <th>3</th>\n",
              "      <td>3</td>\n",
              "      <td>3</td>\n",
              "      <td>https://twitter.com/kinosukina/status/15089555...</td>\n",
              "      <td>2022-03-29 23:53:32+00:00</td>\n",
              "      <td>Bila kita membiasakan diri dengan sifat pemaaf...</td>\n",
              "      <td>Bila kita membiasakan diri dengan sifat pemaaf...</td>\n",
              "      <td>1.508956e+18</td>\n",
              "      <td>{'username': 'kinosukina', 'id': 2602416942, '...</td>\n",
              "      <td>0</td>\n",
              "      <td>0</td>\n",
              "      <td>...</td>\n",
              "      <td>[{'previewUrl': 'https://pbs.twimg.com/media/F...</td>\n",
              "      <td>NaN</td>\n",
              "      <td>NaN</td>\n",
              "      <td>NaN</td>\n",
              "      <td>NaN</td>\n",
              "      <td>NaN</td>\n",
              "      <td>{'longitude': 110.006125, 'latitude': -8.206926}</td>\n",
              "      <td>{'fullName': 'Yogyakarta, Indonesia', 'name': ...</td>\n",
              "      <td>NaN</td>\n",
              "      <td>NaN</td>\n",
              "    </tr>\n",
              "    <tr>\n",
              "      <th>4</th>\n",
              "      <td>4</td>\n",
              "      <td>4</td>\n",
              "      <td>https://twitter.com/kinosukina/status/15089545...</td>\n",
              "      <td>2022-03-29 23:49:46+00:00</td>\n",
              "      <td>Alhamdulillah....\\nRabu pagi ini cuaca cerah\\n...</td>\n",
              "      <td>Alhamdulillah....\\nRabu pagi ini cuaca cerah\\n...</td>\n",
              "      <td>1.508955e+18</td>\n",
              "      <td>{'username': 'kinosukina', 'id': 2602416942, '...</td>\n",
              "      <td>0</td>\n",
              "      <td>0</td>\n",
              "      <td>...</td>\n",
              "      <td>[{'previewUrl': 'https://pbs.twimg.com/media/F...</td>\n",
              "      <td>NaN</td>\n",
              "      <td>NaN</td>\n",
              "      <td>NaN</td>\n",
              "      <td>NaN</td>\n",
              "      <td>NaN</td>\n",
              "      <td>{'longitude': 110.006125, 'latitude': -8.206926}</td>\n",
              "      <td>{'fullName': 'Yogyakarta, Indonesia', 'name': ...</td>\n",
              "      <td>NaN</td>\n",
              "      <td>NaN</td>\n",
              "    </tr>\n",
              "    <tr>\n",
              "      <th>...</th>\n",
              "      <td>...</td>\n",
              "      <td>...</td>\n",
              "      <td>...</td>\n",
              "      <td>...</td>\n",
              "      <td>...</td>\n",
              "      <td>...</td>\n",
              "      <td>...</td>\n",
              "      <td>...</td>\n",
              "      <td>...</td>\n",
              "      <td>...</td>\n",
              "      <td>...</td>\n",
              "      <td>...</td>\n",
              "      <td>...</td>\n",
              "      <td>...</td>\n",
              "      <td>...</td>\n",
              "      <td>...</td>\n",
              "      <td>...</td>\n",
              "      <td>...</td>\n",
              "      <td>...</td>\n",
              "      <td>...</td>\n",
              "      <td>...</td>\n",
              "    </tr>\n",
              "    <tr>\n",
              "      <th>4995</th>\n",
              "      <td>4995</td>\n",
              "      <td>4995</td>\n",
              "      <td>https://twitter.com/orangkasa/status/150737844...</td>\n",
              "      <td>2022-03-25 15:26:41+00:00</td>\n",
              "      <td>@crybely @sbyfess kaum indihome</td>\n",
              "      <td>@crybely @sbyfess kaum indihome</td>\n",
              "      <td>1.507378e+18</td>\n",
              "      <td>{'username': 'orangkasa', 'id': 11031636632742...</td>\n",
              "      <td>1</td>\n",
              "      <td>0</td>\n",
              "      <td>...</td>\n",
              "      <td>NaN</td>\n",
              "      <td>NaN</td>\n",
              "      <td>NaN</td>\n",
              "      <td>1.507378e+18</td>\n",
              "      <td>{'username': 'crybely', 'id': 1312781156035649...</td>\n",
              "      <td>[{'username': 'crybely', 'id': 131278115603564...</td>\n",
              "      <td>NaN</td>\n",
              "      <td>NaN</td>\n",
              "      <td>NaN</td>\n",
              "      <td>NaN</td>\n",
              "    </tr>\n",
              "    <tr>\n",
              "      <th>4996</th>\n",
              "      <td>4996</td>\n",
              "      <td>4996</td>\n",
              "      <td>https://twitter.com/olivia9iant/status/1507378...</td>\n",
              "      <td>2022-03-25 15:26:04+00:00</td>\n",
              "      <td>Min @IndiHome ga tertolong ya min, sampe calen...</td>\n",
              "      <td>Min @IndiHome ga tertolong ya min, sampe calen...</td>\n",
              "      <td>1.507378e+18</td>\n",
              "      <td>{'username': 'olivia9iant', 'id': 76344889, 'd...</td>\n",
              "      <td>0</td>\n",
              "      <td>0</td>\n",
              "      <td>...</td>\n",
              "      <td>[{'previewUrl': 'https://pbs.twimg.com/media/F...</td>\n",
              "      <td>NaN</td>\n",
              "      <td>NaN</td>\n",
              "      <td>NaN</td>\n",
              "      <td>NaN</td>\n",
              "      <td>[{'username': 'IndiHome', 'id': 10756730589318...</td>\n",
              "      <td>NaN</td>\n",
              "      <td>NaN</td>\n",
              "      <td>NaN</td>\n",
              "      <td>NaN</td>\n",
              "    </tr>\n",
              "    <tr>\n",
              "      <th>4997</th>\n",
              "      <td>4997</td>\n",
              "      <td>4997</td>\n",
              "      <td>https://twitter.com/jooyeonsyg/status/15073781...</td>\n",
              "      <td>2022-03-25 15:25:38+00:00</td>\n",
              "      <td>indihome ngeselin bangettt</td>\n",
              "      <td>indihome ngeselin bangettt</td>\n",
              "      <td>1.507378e+18</td>\n",
              "      <td>{'username': 'jooyeonsyg', 'id': 1471143100361...</td>\n",
              "      <td>0</td>\n",
              "      <td>0</td>\n",
              "      <td>...</td>\n",
              "      <td>NaN</td>\n",
              "      <td>NaN</td>\n",
              "      <td>NaN</td>\n",
              "      <td>NaN</td>\n",
              "      <td>NaN</td>\n",
              "      <td>NaN</td>\n",
              "      <td>NaN</td>\n",
              "      <td>NaN</td>\n",
              "      <td>NaN</td>\n",
              "      <td>NaN</td>\n",
              "    </tr>\n",
              "    <tr>\n",
              "      <th>4998</th>\n",
              "      <td>4998</td>\n",
              "      <td>4998</td>\n",
              "      <td>https://twitter.com/dkyeo_om/status/1507377504...</td>\n",
              "      <td>2022-03-25 15:22:57+00:00</td>\n",
              "      <td>euh kayaknya tl gue gak muncul karena pake ind...</td>\n",
              "      <td>euh kayaknya tl gue gak muncul karena pake ind...</td>\n",
              "      <td>1.507378e+18</td>\n",
              "      <td>{'username': 'dkyeo_om', 'id': 135645299391526...</td>\n",
              "      <td>0</td>\n",
              "      <td>0</td>\n",
              "      <td>...</td>\n",
              "      <td>NaN</td>\n",
              "      <td>NaN</td>\n",
              "      <td>NaN</td>\n",
              "      <td>NaN</td>\n",
              "      <td>NaN</td>\n",
              "      <td>NaN</td>\n",
              "      <td>NaN</td>\n",
              "      <td>NaN</td>\n",
              "      <td>NaN</td>\n",
              "      <td>NaN</td>\n",
              "    </tr>\n",
              "    <tr>\n",
              "      <th>4999</th>\n",
              "      <td>4999</td>\n",
              "      <td>4999</td>\n",
              "      <td>https://twitter.com/IndiHomeCare/status/150737...</td>\n",
              "      <td>2022-03-25 15:22:29+00:00</td>\n",
              "      <td>@accientsys Hai, Sobat. Silakan kirimkan nomor...</td>\n",
              "      <td>@accientsys Hai, Sobat. Silakan kirimkan nomor...</td>\n",
              "      <td>1.507377e+18</td>\n",
              "      <td>{'username': 'IndiHomeCare', 'id': 76503520089...</td>\n",
              "      <td>0</td>\n",
              "      <td>0</td>\n",
              "      <td>...</td>\n",
              "      <td>NaN</td>\n",
              "      <td>NaN</td>\n",
              "      <td>NaN</td>\n",
              "      <td>1.507356e+18</td>\n",
              "      <td>{'username': 'accientsys', 'id': 1449445977312...</td>\n",
              "      <td>[{'username': 'accientsys', 'id': 144944597731...</td>\n",
              "      <td>NaN</td>\n",
              "      <td>NaN</td>\n",
              "      <td>NaN</td>\n",
              "      <td>NaN</td>\n",
              "    </tr>\n",
              "  </tbody>\n",
              "</table>\n",
              "<p>5000 rows × 29 columns</p>\n",
              "</div>\n",
              "      <button class=\"colab-df-convert\" onclick=\"convertToInteractive('df-45080d38-7957-4d49-9bc9-fc5d65465d30')\"\n",
              "              title=\"Convert this dataframe to an interactive table.\"\n",
              "              style=\"display:none;\">\n",
              "        \n",
              "  <svg xmlns=\"http://www.w3.org/2000/svg\" height=\"24px\"viewBox=\"0 0 24 24\"\n",
              "       width=\"24px\">\n",
              "    <path d=\"M0 0h24v24H0V0z\" fill=\"none\"/>\n",
              "    <path d=\"M18.56 5.44l.94 2.06.94-2.06 2.06-.94-2.06-.94-.94-2.06-.94 2.06-2.06.94zm-11 1L8.5 8.5l.94-2.06 2.06-.94-2.06-.94L8.5 2.5l-.94 2.06-2.06.94zm10 10l.94 2.06.94-2.06 2.06-.94-2.06-.94-.94-2.06-.94 2.06-2.06.94z\"/><path d=\"M17.41 7.96l-1.37-1.37c-.4-.4-.92-.59-1.43-.59-.52 0-1.04.2-1.43.59L10.3 9.45l-7.72 7.72c-.78.78-.78 2.05 0 2.83L4 21.41c.39.39.9.59 1.41.59.51 0 1.02-.2 1.41-.59l7.78-7.78 2.81-2.81c.8-.78.8-2.07 0-2.86zM5.41 20L4 18.59l7.72-7.72 1.47 1.35L5.41 20z\"/>\n",
              "  </svg>\n",
              "      </button>\n",
              "      \n",
              "  <style>\n",
              "    .colab-df-container {\n",
              "      display:flex;\n",
              "      flex-wrap:wrap;\n",
              "      gap: 12px;\n",
              "    }\n",
              "\n",
              "    .colab-df-convert {\n",
              "      background-color: #E8F0FE;\n",
              "      border: none;\n",
              "      border-radius: 50%;\n",
              "      cursor: pointer;\n",
              "      display: none;\n",
              "      fill: #1967D2;\n",
              "      height: 32px;\n",
              "      padding: 0 0 0 0;\n",
              "      width: 32px;\n",
              "    }\n",
              "\n",
              "    .colab-df-convert:hover {\n",
              "      background-color: #E2EBFA;\n",
              "      box-shadow: 0px 1px 2px rgba(60, 64, 67, 0.3), 0px 1px 3px 1px rgba(60, 64, 67, 0.15);\n",
              "      fill: #174EA6;\n",
              "    }\n",
              "\n",
              "    [theme=dark] .colab-df-convert {\n",
              "      background-color: #3B4455;\n",
              "      fill: #D2E3FC;\n",
              "    }\n",
              "\n",
              "    [theme=dark] .colab-df-convert:hover {\n",
              "      background-color: #434B5C;\n",
              "      box-shadow: 0px 1px 3px 1px rgba(0, 0, 0, 0.15);\n",
              "      filter: drop-shadow(0px 1px 2px rgba(0, 0, 0, 0.3));\n",
              "      fill: #FFFFFF;\n",
              "    }\n",
              "  </style>\n",
              "\n",
              "      <script>\n",
              "        const buttonEl =\n",
              "          document.querySelector('#df-45080d38-7957-4d49-9bc9-fc5d65465d30 button.colab-df-convert');\n",
              "        buttonEl.style.display =\n",
              "          google.colab.kernel.accessAllowed ? 'block' : 'none';\n",
              "\n",
              "        async function convertToInteractive(key) {\n",
              "          const element = document.querySelector('#df-45080d38-7957-4d49-9bc9-fc5d65465d30');\n",
              "          const dataTable =\n",
              "            await google.colab.kernel.invokeFunction('convertToInteractive',\n",
              "                                                     [key], {});\n",
              "          if (!dataTable) return;\n",
              "\n",
              "          const docLinkHtml = 'Like what you see? Visit the ' +\n",
              "            '<a target=\"_blank\" href=https://colab.research.google.com/notebooks/data_table.ipynb>data table notebook</a>'\n",
              "            + ' to learn more about interactive tables.';\n",
              "          element.innerHTML = '';\n",
              "          dataTable['output_type'] = 'display_data';\n",
              "          await google.colab.output.renderOutput(dataTable, element);\n",
              "          const docLink = document.createElement('div');\n",
              "          docLink.innerHTML = docLinkHtml;\n",
              "          element.appendChild(docLink);\n",
              "        }\n",
              "      </script>\n",
              "    </div>\n",
              "  </div>\n",
              "  "
            ]
          },
          "metadata": {},
          "execution_count": 6
        }
      ],
      "source": [
        "df = df.drop_duplicates()\n",
        "df = df.reset_index(drop=True)\n",
        "df"
      ]
    },
    {
      "cell_type": "markdown",
      "metadata": {
        "id": "OjoqwWONeKZ8"
      },
      "source": [
        "### Data Cleaning"
      ]
    },
    {
      "cell_type": "markdown",
      "metadata": {
        "id": "GzOuBdUFeKZ9"
      },
      "source": [
        "**Menghapus username & account_name**"
      ]
    },
    {
      "cell_type": "code",
      "execution_count": 7,
      "metadata": {
        "id": "VS1lkFUueKZ9",
        "outputId": "9f1c1db4-1a4b-423f-e25a-e65817c5c410",
        "colab": {
          "base_uri": "https://localhost:8080/"
        }
      },
      "outputs": [
        {
          "output_type": "execute_result",
          "data": {
            "text/plain": [
              "0       sinting nih @FirstMediaCares  seminggu wifi je...\n",
              "1                   Indihome pagi pagi bikin emosi anying\n",
              "2       Selamat pagi teman teman, mau ngasih info nih ...\n",
              "3       Bila kita membiasakan diri dengan sifat pemaaf...\n",
              "4       Alhamdulillah....\\nRabu pagi ini cuaca cerah\\n...\n",
              "                              ...                        \n",
              "4995                      @crybely @sbyfess kaum indihome\n",
              "4996    Min @IndiHome ga tertolong ya min, sampe calen...\n",
              "4997                           indihome ngeselin bangettt\n",
              "4998    euh kayaknya tl gue gak muncul karena pake ind...\n",
              "4999    @accientsys Hai, Sobat. Silakan kirimkan nomor...\n",
              "Name: content, Length: 5000, dtype: object"
            ]
          },
          "metadata": {},
          "execution_count": 7
        }
      ],
      "source": [
        "df['content']"
      ]
    },
    {
      "cell_type": "code",
      "execution_count": 8,
      "metadata": {
        "id": "nengFQbDeKZ_"
      },
      "outputs": [],
      "source": [
        "text_clean = []\n",
        "\n",
        "for idx, text in enumerate(df['content']):\n",
        "    clean_text = str(text).replace(str(df['user'][idx]), '')\n",
        "    clean_text = re.sub('@[\\w]+','',clean_text)\n",
        "    text_clean.append(clean_text)\n",
        "    \n",
        "df['Text_Clean'] = text_clean"
      ]
    },
    {
      "cell_type": "code",
      "execution_count": 9,
      "metadata": {
        "id": "9QBI6B0aeKZ_",
        "outputId": "dcebd1e7-72fd-438c-8951-246518a0928e",
        "colab": {
          "base_uri": "https://localhost:8080/"
        }
      },
      "outputs": [
        {
          "output_type": "execute_result",
          "data": {
            "text/plain": [
              "0     sinting nih   seminggu wifi jeblok dan akhirny...\n",
              "1                 Indihome pagi pagi bikin emosi anying\n",
              "2     Selamat pagi teman teman, mau ngasih info nih ...\n",
              "3     Bila kita membiasakan diri dengan sifat pemaaf...\n",
              "4     Alhamdulillah....\\nRabu pagi ini cuaca cerah\\n...\n",
              "5                 Sinyal indihome knp bgst bgt sih ajg🤧\n",
              "6                         IndiHome internetnya stabil ✨\n",
              "7     Pakai IndiHome jaringan lancar jaya dan aman t...\n",
              "8     Ini drakor emang cocok buat yg lagi bucin....B...\n",
              "9                               Fup indihome eek banget\n",
              "10     Kak, guna Anna bantu permintaannya silakan in...\n",
              "11    Demi apapun…\\n\\n WIFI INDIHOME KENAPA JELEK BA...\n",
              "12     indihome what in the hell is wrong w u this time\n",
              "13     iya kali yaa indihome tpi buat buka yt dkk bi...\n",
              "14     halah males. tolong skrg kalo nelpon cs indih...\n",
              "15    Nikmati keseruan Film- Film IndiHome di Weeken...\n",
              "16     Halo, Kak Mia. Bayar ya, Kak. Wila informasik...\n",
              "17    24 Jam non stop internetan dengan Indihome\\n#A...\n",
              "18                                     indihome hadeeeh\n",
              "19    asik juga bisa nonton di IndiHome Cinema 😋😋😋😋#...\n",
              "Name: Text_Clean, dtype: object"
            ]
          },
          "metadata": {},
          "execution_count": 9
        }
      ],
      "source": [
        "df['Text_Clean'].head(20)"
      ]
    },
    {
      "cell_type": "markdown",
      "metadata": {
        "id": "C7Z7bI4peKZ_"
      },
      "source": [
        "##**Case Folding**"
      ]
    },
    {
      "cell_type": "code",
      "execution_count": 10,
      "metadata": {
        "id": "0qm2uyyjeKaA"
      },
      "outputs": [],
      "source": [
        "def Case_Folding(text):\n",
        "    # Hapus non-ascii\n",
        "    text = unicodedata.normalize('NFKD', text).encode('ascii', 'ignore').decode('utf-8', 'ignore')\n",
        "    \n",
        "    # Menghapus Tanda Baca\n",
        "    text = re.sub(r'[^\\w]|_',' ', text)\n",
        "    \n",
        "    # Menghapus Angka\n",
        "    text = re.sub(\"\\S*\\d\\S*\", \"\", text).strip()\n",
        "    text = re.sub(r\"\\b\\d+\\b\", \" \", text)\n",
        "    \n",
        "    # Mengubah text menjadi lowercase\n",
        "    text = text.lower()\n",
        "    \n",
        "    # Menghapus white space\n",
        "    text = re.sub('[\\s]+', ' ', text)\n",
        "    \n",
        "    return text"
      ]
    },
    {
      "cell_type": "code",
      "execution_count": 11,
      "metadata": {
        "id": "Hx-ZXk5OeKaA",
        "outputId": "a0296125-71fc-4c2c-807e-6b456df974d9",
        "colab": {
          "base_uri": "https://localhost:8080/"
        }
      },
      "outputs": [
        {
          "output_type": "execute_result",
          "data": {
            "text/plain": [
              "0     sinting nih seminggu wifi jeblok dan akhirnyaa...\n",
              "1                 indihome pagi pagi bikin emosi anying\n",
              "2     selamat pagi teman teman mau ngasih info nih k...\n",
              "3     bila kita membiasakan diri dengan sifat pemaaf...\n",
              "4     alhamdulillah rabu pagi ini cuaca cerah bikin ...\n",
              "5                  sinyal indihome knp bgst bgt sih ajg\n",
              "6                           indihome internetnya stabil\n",
              "7     pakai indihome jaringan lancar jaya dan aman t...\n",
              "8     ini drakor emang cocok buat yg lagi bucin bene...\n",
              "9                               fup indihome eek banget\n",
              "10    kak guna anna bantu permintaannya silakan info...\n",
              "11    demi apapun wifi indihome kenapa jelek banget ...\n",
              "12     indihome what in the hell is wrong w u this time\n",
              "13    iya kali yaa indihome tpi buat buka yt dkk bis...\n",
              "14    halah males tolong skrg kalo nelpon cs indihom...\n",
              "15    nikmati keseruan film film indihome di weekend...\n",
              "16    halo kak mia bayar ya kak wila informasikan bi...\n",
              "17    jam non stop internetan dengan indihome aktivi...\n",
              "18                                     indihome hadeeeh\n",
              "19    asik juga bisa nonton di indihome cinema aktiv...\n",
              "Name: Text_Clean, dtype: object"
            ]
          },
          "metadata": {},
          "execution_count": 11
        }
      ],
      "source": [
        "df['Text_Clean'] = df['Text_Clean'].apply(Case_Folding)\n",
        "df['Text_Clean'].head(20)"
      ]
    },
    {
      "cell_type": "markdown",
      "metadata": {
        "id": "erd5JvZOeKaB"
      },
      "source": [
        "##**Lemmatisasi**"
      ]
    },
    {
      "cell_type": "code",
      "execution_count": 12,
      "metadata": {
        "id": "KYCtT4sXeKaB",
        "outputId": "8d7a8a6d-e82f-499d-98e8-e7a8c19dc14a",
        "colab": {
          "base_uri": "https://localhost:8080/"
        }
      },
      "outputs": [
        {
          "output_type": "execute_result",
          "data": {
            "text/plain": [
              "0    sinting nih minggu wifi jeblok dan akhirnyaaa ...\n",
              "1                indihome pagi pagi bikin emosi anying\n",
              "2    selamat pagi teman teman mau ngasih info nih k...\n",
              "3    bila kita biasa diri dengan sifat maaf maka di...\n",
              "4    alhamdulillah rabu pagi ini cuaca cerah bikin ...\n",
              "Name: Text_Clean, dtype: object"
            ]
          },
          "metadata": {},
          "execution_count": 12
        }
      ],
      "source": [
        "df['Text_Clean'] = df['Text_Clean'].apply(lemmatizer.lemmatize)\n",
        "df['Text_Clean'].head()"
      ]
    },
    {
      "cell_type": "markdown",
      "metadata": {
        "id": "bgjHmEu-eKaC"
      },
      "source": [
        "##**Stemming Sastrawi**"
      ]
    },
    {
      "cell_type": "code",
      "execution_count": 13,
      "metadata": {
        "id": "vS0FCL9oeKaC"
      },
      "outputs": [],
      "source": [
        "# Membuat stemmer\n",
        "factory = StemmerFactory()\n",
        "stemmer = factory.create_stemmer()"
      ]
    },
    {
      "cell_type": "code",
      "execution_count": 14,
      "metadata": {
        "id": "Idn31FXMeKaC",
        "outputId": "862faaa0-c334-490f-d969-7061ec788e61",
        "colab": {
          "base_uri": "https://localhost:8080/"
        }
      },
      "outputs": [
        {
          "output_type": "execute_result",
          "data": {
            "text/plain": [
              "0    sinting nih minggu wifi jeblok dan akhirnyaaa ...\n",
              "1                indihome pagi pagi bikin emosi anying\n",
              "2    selamat pagi teman teman mau ngasih info nih k...\n",
              "3    bila kita biasa diri dengan sifat maaf maka di...\n",
              "4    alhamdulillah rabu pagi ini cuaca cerah bikin ...\n",
              "Name: Text_Clean, dtype: object"
            ]
          },
          "metadata": {},
          "execution_count": 14
        }
      ],
      "source": [
        "df['Text_Clean'] = df['Text_Clean'].apply(stemmer.stem)\n",
        "df['Text_Clean'].head()"
      ]
    },
    {
      "cell_type": "markdown",
      "metadata": {
        "id": "Avx3ZRZlfcm5"
      },
      "source": [
        "##**Stemming Tala**"
      ]
    },
    {
      "cell_type": "code",
      "source": [
        "class TalaStemmFactory:\n",
        "    def __init__(self):\n",
        "        stopword = [line.rstrip('\\n') for line in open('stopword.txt')]\n",
        "        stopword_kd = [line.rstrip('\\n') for line in open('stopword_kd.txt')]\n",
        "        self.stopword = stopword\n",
        "        self.stopword_kd = stopword_kd\n",
        "\n",
        "    def getTalaStemmer(self):\n",
        "        return TalaStemmer(self.stopword, self.stopword_kd)"
      ],
      "metadata": {
        "id": "U8K3wpFIDabW"
      },
      "execution_count": 15,
      "outputs": []
    },
    {
      "cell_type": "code",
      "source": [
        "class TalaStemmer:\n",
        "    awalan1 = [\n",
        "        ['meng',  ''],  ['menya', 's'], ['menyi', 's'], ['menyu', 's'], ['menye', 's'],\n",
        "        ['menyo', 's'], ['meny',  's'], ['men',   ''],  ['mema',  'p'], ['memi',  'p'],\n",
        "        ['memu',  'p'], ['meme',  'p'], ['memo',  'p'], ['mem',   ''],  ['me',    ''],\n",
        "        ['peng',  ''],  ['penya', 's'], ['penyi', 's'], ['penyu', 's'], ['penye', 's'],\n",
        "        ['penyo', 's'], ['peny',  's'], ['pen',   ''],  ['pema',  'p'], ['pemi',  'p'],\n",
        "        ['pemu',  'p'], ['peme',  'p'], ['pemo',  'p'], ['pem',   ''],  ['di',    ''],\n",
        "        ['ter',   ''],  ['ke',   '']\n",
        "    ]\n",
        "    awalan2 = [\n",
        "        ['ber', ''],    ['bel', ''],    ['be', ''],     ['per', ''],    ['pel', ''],    ['pe', '']\n",
        "    ]\n",
        "\n",
        "    akhiran1 = ['lah', 'kah',   'pun']\n",
        "    akhiran2 = ['nya', 'ku',    'mu']\n",
        "    akhiran3 = ['kan', 'an',    'i']\n",
        "\n",
        "    def __init__(self, stopword, stopword_kd):\n",
        "        self.stopword = stopword\n",
        "        self.stopword_kd = stopword_kd\n",
        "\n",
        "    def stem(self, word):\n",
        "        if (word in self.stopword_kd):\n",
        "            index = self.stopword_kd.index(word)\n",
        "            return self.stopword_kd[index]\n",
        "        word, success = self.hilangkanAwalan(self.awalan1, word)\n",
        "        if (success):\n",
        "            word, success = self.hilangAkhiran(self.akhiran1, word)\n",
        "            if not success:\n",
        "                return word\n",
        "            word, success = self.hilangAkhiran(self.akhiran2, word)\n",
        "            if not success:\n",
        "                return word\n",
        "            word, success = self.hilangAkhiran(self.akhiran3, word)\n",
        "            if not success:\n",
        "                return word\n",
        "            word, success = self.hilangkanAwalan(self.awalan2, word)\n",
        "        else:\n",
        "            word, success = self.hilangkanAwalan(self.awalan2, word)\n",
        "            word, success = self.hilangAkhiran(self.akhiran1, word)\n",
        "            word, success = self.hilangAkhiran(self.akhiran2, word)\n",
        "            word, success = self.hilangAkhiran(self.akhiran3, word)\n",
        "        return word\n",
        "\n",
        "    def hilangAkhiran(self, akhiran, word):\n",
        "        success = False\n",
        "        for i in akhiran:\n",
        "            ind = len(i) * -1\n",
        "            if (word[ind:] == i):\n",
        "                result = word[:ind]\n",
        "                if (len(result) > 2):\n",
        "                    word = result\n",
        "                    success = True\n",
        "                    break\n",
        "        return word, success\n",
        "\n",
        "    def hilangkanAwalan(self, awalan, word):\n",
        "        success = False\n",
        "        for i in awalan:\n",
        "            ind = len(i[0])\n",
        "            if (word[:ind] == i[0]):\n",
        "                result = word[ind:]\n",
        "                if (len(result) > 2):\n",
        "                    word = result\n",
        "                    success = True\n",
        "                    break\n",
        "        return word, success"
      ],
      "metadata": {
        "id": "j4hsf87gDabX"
      },
      "execution_count": 16,
      "outputs": []
    },
    {
      "cell_type": "code",
      "source": [
        "# Membuat stemmer\n",
        "factory = TalaStemmFactory()\n",
        "stemmer = factory.getTalaStemmer()"
      ],
      "metadata": {
        "id": "zSk7-Ow6DabZ"
      },
      "execution_count": 17,
      "outputs": []
    },
    {
      "cell_type": "code",
      "source": [
        "df['Text_Clean_Tala']=df['Text_Clean'].apply(stemmer.stem)"
      ],
      "metadata": {
        "id": "6b9YMNfZEauP"
      },
      "execution_count": 18,
      "outputs": []
    },
    {
      "cell_type": "code",
      "source": [
        "df.head()"
      ],
      "metadata": {
        "colab": {
          "base_uri": "https://localhost:8080/",
          "height": 612
        },
        "id": "9uAYkY1wuFpW",
        "outputId": "4fce3ed2-c049-43d1-f0c6-cfc11507f312"
      },
      "execution_count": 19,
      "outputs": [
        {
          "output_type": "execute_result",
          "data": {
            "text/plain": [
              "   Unnamed: 0  Unnamed: 0.1  \\\n",
              "0           0             0   \n",
              "1           1             1   \n",
              "2           2             2   \n",
              "3           3             3   \n",
              "4           4             4   \n",
              "\n",
              "                                                 url  \\\n",
              "0  https://twitter.com/Denise_Tweety/status/15089...   \n",
              "1  https://twitter.com/Anzlnahrvi/status/15089563...   \n",
              "2  https://twitter.com/muhamma09485383/status/150...   \n",
              "3  https://twitter.com/kinosukina/status/15089555...   \n",
              "4  https://twitter.com/kinosukina/status/15089545...   \n",
              "\n",
              "                        date  \\\n",
              "0  2022-03-29 23:57:46+00:00   \n",
              "1  2022-03-29 23:56:53+00:00   \n",
              "2  2022-03-29 23:54:57+00:00   \n",
              "3  2022-03-29 23:53:32+00:00   \n",
              "4  2022-03-29 23:49:46+00:00   \n",
              "\n",
              "                                             content  \\\n",
              "0  sinting nih @FirstMediaCares  seminggu wifi je...   \n",
              "1              Indihome pagi pagi bikin emosi anying   \n",
              "2  Selamat pagi teman teman, mau ngasih info nih ...   \n",
              "3  Bila kita membiasakan diri dengan sifat pemaaf...   \n",
              "4  Alhamdulillah....\\nRabu pagi ini cuaca cerah\\n...   \n",
              "\n",
              "                                     renderedContent            id  \\\n",
              "0  sinting nih @FirstMediaCares  seminggu wifi je...  1.508957e+18   \n",
              "1              Indihome pagi pagi bikin emosi anying  1.508956e+18   \n",
              "2  Selamat pagi teman teman, mau ngasih info nih ...  1.508956e+18   \n",
              "3  Bila kita membiasakan diri dengan sifat pemaaf...  1.508956e+18   \n",
              "4  Alhamdulillah....\\nRabu pagi ini cuaca cerah\\n...  1.508955e+18   \n",
              "\n",
              "                                                user  replyCount  \\\n",
              "0  {'username': 'Denise_Tweety', 'id': 51407976, ...           1   \n",
              "1  {'username': 'Anzlnahrvi', 'id': 1498572765816...           0   \n",
              "2  {'username': 'muhamma09485383', 'id': 14873251...           0   \n",
              "3  {'username': 'kinosukina', 'id': 2602416942, '...           0   \n",
              "4  {'username': 'kinosukina', 'id': 2602416942, '...           0   \n",
              "\n",
              "   retweetCount  ...  quotedTweet  inReplyToTweetId  inReplyToUser  \\\n",
              "0             0  ...          NaN               NaN            NaN   \n",
              "1             0  ...          NaN               NaN            NaN   \n",
              "2             0  ...          NaN               NaN            NaN   \n",
              "3             0  ...          NaN               NaN            NaN   \n",
              "4             0  ...          NaN               NaN            NaN   \n",
              "\n",
              "                                      mentionedUsers  \\\n",
              "0  [{'username': 'FirstMediaCares', 'id': 1557875...   \n",
              "1                                                NaN   \n",
              "2                                                NaN   \n",
              "3                                                NaN   \n",
              "4                                                NaN   \n",
              "\n",
              "                                        coordinates  \\\n",
              "0                                               NaN   \n",
              "1                                               NaN   \n",
              "2                                               NaN   \n",
              "3  {'longitude': 110.006125, 'latitude': -8.206926}   \n",
              "4  {'longitude': 110.006125, 'latitude': -8.206926}   \n",
              "\n",
              "                                               place  \\\n",
              "0                                                NaN   \n",
              "1                                                NaN   \n",
              "2                                                NaN   \n",
              "3  {'fullName': 'Yogyakarta, Indonesia', 'name': ...   \n",
              "4  {'fullName': 'Yogyakarta, Indonesia', 'name': ...   \n",
              "\n",
              "                                          hashtags cashtags  \\\n",
              "0                                              NaN      NaN   \n",
              "1                                              NaN      NaN   \n",
              "2  ['AktivitasTanpaBatas', 'InternetnyaIndonesia']      NaN   \n",
              "3                                              NaN      NaN   \n",
              "4                                              NaN      NaN   \n",
              "\n",
              "                                          Text_Clean  \\\n",
              "0  sinting nih minggu wifi jeblok dan akhirnyaaa ...   \n",
              "1              indihome pagi pagi bikin emosi anying   \n",
              "2  selamat pagi teman teman mau ngasih info nih k...   \n",
              "3  bila kita biasa diri dengan sifat maaf maka di...   \n",
              "4  alhamdulillah rabu pagi ini cuaca cerah bikin ...   \n",
              "\n",
              "                                     Text_Clean_Tala  \n",
              "0  sinting nih minggu wifi jeblok dan akhirnyaaa ...  \n",
              "1              indihome pagi pagi bikin emosi anying  \n",
              "2  selamat pagi teman teman mau ngasih info nih k...  \n",
              "3  bila kita biasa diri dengan sifat maaf maka di...  \n",
              "4  alhamdulillah rabu pagi ini cuaca cerah bikin ...  \n",
              "\n",
              "[5 rows x 31 columns]"
            ],
            "text/html": [
              "\n",
              "  <div id=\"df-6f00d26f-9b31-4ee7-90a8-7159515660bc\">\n",
              "    <div class=\"colab-df-container\">\n",
              "      <div>\n",
              "<style scoped>\n",
              "    .dataframe tbody tr th:only-of-type {\n",
              "        vertical-align: middle;\n",
              "    }\n",
              "\n",
              "    .dataframe tbody tr th {\n",
              "        vertical-align: top;\n",
              "    }\n",
              "\n",
              "    .dataframe thead th {\n",
              "        text-align: right;\n",
              "    }\n",
              "</style>\n",
              "<table border=\"1\" class=\"dataframe\">\n",
              "  <thead>\n",
              "    <tr style=\"text-align: right;\">\n",
              "      <th></th>\n",
              "      <th>Unnamed: 0</th>\n",
              "      <th>Unnamed: 0.1</th>\n",
              "      <th>url</th>\n",
              "      <th>date</th>\n",
              "      <th>content</th>\n",
              "      <th>renderedContent</th>\n",
              "      <th>id</th>\n",
              "      <th>user</th>\n",
              "      <th>replyCount</th>\n",
              "      <th>retweetCount</th>\n",
              "      <th>...</th>\n",
              "      <th>quotedTweet</th>\n",
              "      <th>inReplyToTweetId</th>\n",
              "      <th>inReplyToUser</th>\n",
              "      <th>mentionedUsers</th>\n",
              "      <th>coordinates</th>\n",
              "      <th>place</th>\n",
              "      <th>hashtags</th>\n",
              "      <th>cashtags</th>\n",
              "      <th>Text_Clean</th>\n",
              "      <th>Text_Clean_Tala</th>\n",
              "    </tr>\n",
              "  </thead>\n",
              "  <tbody>\n",
              "    <tr>\n",
              "      <th>0</th>\n",
              "      <td>0</td>\n",
              "      <td>0</td>\n",
              "      <td>https://twitter.com/Denise_Tweety/status/15089...</td>\n",
              "      <td>2022-03-29 23:57:46+00:00</td>\n",
              "      <td>sinting nih @FirstMediaCares  seminggu wifi je...</td>\n",
              "      <td>sinting nih @FirstMediaCares  seminggu wifi je...</td>\n",
              "      <td>1.508957e+18</td>\n",
              "      <td>{'username': 'Denise_Tweety', 'id': 51407976, ...</td>\n",
              "      <td>1</td>\n",
              "      <td>0</td>\n",
              "      <td>...</td>\n",
              "      <td>NaN</td>\n",
              "      <td>NaN</td>\n",
              "      <td>NaN</td>\n",
              "      <td>[{'username': 'FirstMediaCares', 'id': 1557875...</td>\n",
              "      <td>NaN</td>\n",
              "      <td>NaN</td>\n",
              "      <td>NaN</td>\n",
              "      <td>NaN</td>\n",
              "      <td>sinting nih minggu wifi jeblok dan akhirnyaaa ...</td>\n",
              "      <td>sinting nih minggu wifi jeblok dan akhirnyaaa ...</td>\n",
              "    </tr>\n",
              "    <tr>\n",
              "      <th>1</th>\n",
              "      <td>1</td>\n",
              "      <td>1</td>\n",
              "      <td>https://twitter.com/Anzlnahrvi/status/15089563...</td>\n",
              "      <td>2022-03-29 23:56:53+00:00</td>\n",
              "      <td>Indihome pagi pagi bikin emosi anying</td>\n",
              "      <td>Indihome pagi pagi bikin emosi anying</td>\n",
              "      <td>1.508956e+18</td>\n",
              "      <td>{'username': 'Anzlnahrvi', 'id': 1498572765816...</td>\n",
              "      <td>0</td>\n",
              "      <td>0</td>\n",
              "      <td>...</td>\n",
              "      <td>NaN</td>\n",
              "      <td>NaN</td>\n",
              "      <td>NaN</td>\n",
              "      <td>NaN</td>\n",
              "      <td>NaN</td>\n",
              "      <td>NaN</td>\n",
              "      <td>NaN</td>\n",
              "      <td>NaN</td>\n",
              "      <td>indihome pagi pagi bikin emosi anying</td>\n",
              "      <td>indihome pagi pagi bikin emosi anying</td>\n",
              "    </tr>\n",
              "    <tr>\n",
              "      <th>2</th>\n",
              "      <td>2</td>\n",
              "      <td>2</td>\n",
              "      <td>https://twitter.com/muhamma09485383/status/150...</td>\n",
              "      <td>2022-03-29 23:54:57+00:00</td>\n",
              "      <td>Selamat pagi teman teman, mau ngasih info nih ...</td>\n",
              "      <td>Selamat pagi teman teman, mau ngasih info nih ...</td>\n",
              "      <td>1.508956e+18</td>\n",
              "      <td>{'username': 'muhamma09485383', 'id': 14873251...</td>\n",
              "      <td>0</td>\n",
              "      <td>0</td>\n",
              "      <td>...</td>\n",
              "      <td>NaN</td>\n",
              "      <td>NaN</td>\n",
              "      <td>NaN</td>\n",
              "      <td>NaN</td>\n",
              "      <td>NaN</td>\n",
              "      <td>NaN</td>\n",
              "      <td>['AktivitasTanpaBatas', 'InternetnyaIndonesia']</td>\n",
              "      <td>NaN</td>\n",
              "      <td>selamat pagi teman teman mau ngasih info nih k...</td>\n",
              "      <td>selamat pagi teman teman mau ngasih info nih k...</td>\n",
              "    </tr>\n",
              "    <tr>\n",
              "      <th>3</th>\n",
              "      <td>3</td>\n",
              "      <td>3</td>\n",
              "      <td>https://twitter.com/kinosukina/status/15089555...</td>\n",
              "      <td>2022-03-29 23:53:32+00:00</td>\n",
              "      <td>Bila kita membiasakan diri dengan sifat pemaaf...</td>\n",
              "      <td>Bila kita membiasakan diri dengan sifat pemaaf...</td>\n",
              "      <td>1.508956e+18</td>\n",
              "      <td>{'username': 'kinosukina', 'id': 2602416942, '...</td>\n",
              "      <td>0</td>\n",
              "      <td>0</td>\n",
              "      <td>...</td>\n",
              "      <td>NaN</td>\n",
              "      <td>NaN</td>\n",
              "      <td>NaN</td>\n",
              "      <td>NaN</td>\n",
              "      <td>{'longitude': 110.006125, 'latitude': -8.206926}</td>\n",
              "      <td>{'fullName': 'Yogyakarta, Indonesia', 'name': ...</td>\n",
              "      <td>NaN</td>\n",
              "      <td>NaN</td>\n",
              "      <td>bila kita biasa diri dengan sifat maaf maka di...</td>\n",
              "      <td>bila kita biasa diri dengan sifat maaf maka di...</td>\n",
              "    </tr>\n",
              "    <tr>\n",
              "      <th>4</th>\n",
              "      <td>4</td>\n",
              "      <td>4</td>\n",
              "      <td>https://twitter.com/kinosukina/status/15089545...</td>\n",
              "      <td>2022-03-29 23:49:46+00:00</td>\n",
              "      <td>Alhamdulillah....\\nRabu pagi ini cuaca cerah\\n...</td>\n",
              "      <td>Alhamdulillah....\\nRabu pagi ini cuaca cerah\\n...</td>\n",
              "      <td>1.508955e+18</td>\n",
              "      <td>{'username': 'kinosukina', 'id': 2602416942, '...</td>\n",
              "      <td>0</td>\n",
              "      <td>0</td>\n",
              "      <td>...</td>\n",
              "      <td>NaN</td>\n",
              "      <td>NaN</td>\n",
              "      <td>NaN</td>\n",
              "      <td>NaN</td>\n",
              "      <td>{'longitude': 110.006125, 'latitude': -8.206926}</td>\n",
              "      <td>{'fullName': 'Yogyakarta, Indonesia', 'name': ...</td>\n",
              "      <td>NaN</td>\n",
              "      <td>NaN</td>\n",
              "      <td>alhamdulillah rabu pagi ini cuaca cerah bikin ...</td>\n",
              "      <td>alhamdulillah rabu pagi ini cuaca cerah bikin ...</td>\n",
              "    </tr>\n",
              "  </tbody>\n",
              "</table>\n",
              "<p>5 rows × 31 columns</p>\n",
              "</div>\n",
              "      <button class=\"colab-df-convert\" onclick=\"convertToInteractive('df-6f00d26f-9b31-4ee7-90a8-7159515660bc')\"\n",
              "              title=\"Convert this dataframe to an interactive table.\"\n",
              "              style=\"display:none;\">\n",
              "        \n",
              "  <svg xmlns=\"http://www.w3.org/2000/svg\" height=\"24px\"viewBox=\"0 0 24 24\"\n",
              "       width=\"24px\">\n",
              "    <path d=\"M0 0h24v24H0V0z\" fill=\"none\"/>\n",
              "    <path d=\"M18.56 5.44l.94 2.06.94-2.06 2.06-.94-2.06-.94-.94-2.06-.94 2.06-2.06.94zm-11 1L8.5 8.5l.94-2.06 2.06-.94-2.06-.94L8.5 2.5l-.94 2.06-2.06.94zm10 10l.94 2.06.94-2.06 2.06-.94-2.06-.94-.94-2.06-.94 2.06-2.06.94z\"/><path d=\"M17.41 7.96l-1.37-1.37c-.4-.4-.92-.59-1.43-.59-.52 0-1.04.2-1.43.59L10.3 9.45l-7.72 7.72c-.78.78-.78 2.05 0 2.83L4 21.41c.39.39.9.59 1.41.59.51 0 1.02-.2 1.41-.59l7.78-7.78 2.81-2.81c.8-.78.8-2.07 0-2.86zM5.41 20L4 18.59l7.72-7.72 1.47 1.35L5.41 20z\"/>\n",
              "  </svg>\n",
              "      </button>\n",
              "      \n",
              "  <style>\n",
              "    .colab-df-container {\n",
              "      display:flex;\n",
              "      flex-wrap:wrap;\n",
              "      gap: 12px;\n",
              "    }\n",
              "\n",
              "    .colab-df-convert {\n",
              "      background-color: #E8F0FE;\n",
              "      border: none;\n",
              "      border-radius: 50%;\n",
              "      cursor: pointer;\n",
              "      display: none;\n",
              "      fill: #1967D2;\n",
              "      height: 32px;\n",
              "      padding: 0 0 0 0;\n",
              "      width: 32px;\n",
              "    }\n",
              "\n",
              "    .colab-df-convert:hover {\n",
              "      background-color: #E2EBFA;\n",
              "      box-shadow: 0px 1px 2px rgba(60, 64, 67, 0.3), 0px 1px 3px 1px rgba(60, 64, 67, 0.15);\n",
              "      fill: #174EA6;\n",
              "    }\n",
              "\n",
              "    [theme=dark] .colab-df-convert {\n",
              "      background-color: #3B4455;\n",
              "      fill: #D2E3FC;\n",
              "    }\n",
              "\n",
              "    [theme=dark] .colab-df-convert:hover {\n",
              "      background-color: #434B5C;\n",
              "      box-shadow: 0px 1px 3px 1px rgba(0, 0, 0, 0.15);\n",
              "      filter: drop-shadow(0px 1px 2px rgba(0, 0, 0, 0.3));\n",
              "      fill: #FFFFFF;\n",
              "    }\n",
              "  </style>\n",
              "\n",
              "      <script>\n",
              "        const buttonEl =\n",
              "          document.querySelector('#df-6f00d26f-9b31-4ee7-90a8-7159515660bc button.colab-df-convert');\n",
              "        buttonEl.style.display =\n",
              "          google.colab.kernel.accessAllowed ? 'block' : 'none';\n",
              "\n",
              "        async function convertToInteractive(key) {\n",
              "          const element = document.querySelector('#df-6f00d26f-9b31-4ee7-90a8-7159515660bc');\n",
              "          const dataTable =\n",
              "            await google.colab.kernel.invokeFunction('convertToInteractive',\n",
              "                                                     [key], {});\n",
              "          if (!dataTable) return;\n",
              "\n",
              "          const docLinkHtml = 'Like what you see? Visit the ' +\n",
              "            '<a target=\"_blank\" href=https://colab.research.google.com/notebooks/data_table.ipynb>data table notebook</a>'\n",
              "            + ' to learn more about interactive tables.';\n",
              "          element.innerHTML = '';\n",
              "          dataTable['output_type'] = 'display_data';\n",
              "          await google.colab.output.renderOutput(dataTable, element);\n",
              "          const docLink = document.createElement('div');\n",
              "          docLink.innerHTML = docLinkHtml;\n",
              "          element.appendChild(docLink);\n",
              "        }\n",
              "      </script>\n",
              "    </div>\n",
              "  </div>\n",
              "  "
            ]
          },
          "metadata": {},
          "execution_count": 19
        }
      ]
    },
    {
      "cell_type": "markdown",
      "metadata": {
        "id": "VnPkmzRheKaD"
      },
      "source": [
        "##**Slang Word Standardization**"
      ]
    },
    {
      "cell_type": "code",
      "execution_count": 20,
      "metadata": {
        "id": "1qxNtgGreKaD"
      },
      "outputs": [],
      "source": [
        "slang_dictionary = pd.read_csv('colloquial-indonesian-lexicon.csv')\n",
        "slang_dict = pd.Series(slang_dictionary['formal'].values,index=slang_dictionary['slang']).to_dict()"
      ]
    },
    {
      "cell_type": "code",
      "execution_count": 21,
      "metadata": {
        "id": "NLpP3iM8eKaD",
        "outputId": "7bb3113e-f106-4b5d-ad03-53ef33680a7e",
        "colab": {
          "base_uri": "https://localhost:8080/",
          "height": 468
        }
      },
      "outputs": [
        {
          "output_type": "execute_result",
          "data": {
            "text/plain": [
              "          slang         formal  In-dictionary  \\\n",
              "0          woww            wow              1   \n",
              "1         aminn           amin              1   \n",
              "2           met        selamat              1   \n",
              "3        netaas        menetas              1   \n",
              "4       keberpa       keberapa              0   \n",
              "...         ...            ...            ...   \n",
              "15001  gataunya  enggak taunya              0   \n",
              "15002      gtau     enggak tau              0   \n",
              "15003     gatau     enggak tau              0   \n",
              "15004     fans2        fan-fan              0   \n",
              "15005   gaharus   enggak harus              0   \n",
              "\n",
              "                                                 context    category1  \\\n",
              "0                                                    wow     elongasi   \n",
              "1      Selamat ulang tahun kakak tulus semoga panjang...     elongasi   \n",
              "2      Met hari netaas kak!? Wish you all the best @t...    abreviasi   \n",
              "3      Met hari netaas kak!? Wish you all the best @t...     afiksasi   \n",
              "4                               Birthday yg keberpa kak?    abreviasi   \n",
              "...                                                  ...          ...   \n",
              "15001  Ini kaya nenek2 ya beb gataunya agnezz @yugime...      akronim   \n",
              "15002  Stidaknya mrka may berkarya Dan berusaha yg tr...      akronim   \n",
              "15003                                      Ih gatau malu      akronim   \n",
              "15004  Jkt48 adalah tempat di mana sesama fans saling...  reduplikasi   \n",
              "15005  belajar tuh bisa dimana aja gaharus belajar di...      akronim   \n",
              "\n",
              "          category2 category3  \n",
              "0                 0         0  \n",
              "1                 0         0  \n",
              "2                 0         0  \n",
              "3          elongasi         0  \n",
              "4                 0         0  \n",
              "...             ...       ...  \n",
              "15001             0         0  \n",
              "15002     abreviasi         0  \n",
              "15003             0         0  \n",
              "15004  naturalisasi         0  \n",
              "15005             0         0  \n",
              "\n",
              "[15006 rows x 7 columns]"
            ],
            "text/html": [
              "\n",
              "  <div id=\"df-16992470-c3f4-4e1f-89f6-74398391860e\">\n",
              "    <div class=\"colab-df-container\">\n",
              "      <div>\n",
              "<style scoped>\n",
              "    .dataframe tbody tr th:only-of-type {\n",
              "        vertical-align: middle;\n",
              "    }\n",
              "\n",
              "    .dataframe tbody tr th {\n",
              "        vertical-align: top;\n",
              "    }\n",
              "\n",
              "    .dataframe thead th {\n",
              "        text-align: right;\n",
              "    }\n",
              "</style>\n",
              "<table border=\"1\" class=\"dataframe\">\n",
              "  <thead>\n",
              "    <tr style=\"text-align: right;\">\n",
              "      <th></th>\n",
              "      <th>slang</th>\n",
              "      <th>formal</th>\n",
              "      <th>In-dictionary</th>\n",
              "      <th>context</th>\n",
              "      <th>category1</th>\n",
              "      <th>category2</th>\n",
              "      <th>category3</th>\n",
              "    </tr>\n",
              "  </thead>\n",
              "  <tbody>\n",
              "    <tr>\n",
              "      <th>0</th>\n",
              "      <td>woww</td>\n",
              "      <td>wow</td>\n",
              "      <td>1</td>\n",
              "      <td>wow</td>\n",
              "      <td>elongasi</td>\n",
              "      <td>0</td>\n",
              "      <td>0</td>\n",
              "    </tr>\n",
              "    <tr>\n",
              "      <th>1</th>\n",
              "      <td>aminn</td>\n",
              "      <td>amin</td>\n",
              "      <td>1</td>\n",
              "      <td>Selamat ulang tahun kakak tulus semoga panjang...</td>\n",
              "      <td>elongasi</td>\n",
              "      <td>0</td>\n",
              "      <td>0</td>\n",
              "    </tr>\n",
              "    <tr>\n",
              "      <th>2</th>\n",
              "      <td>met</td>\n",
              "      <td>selamat</td>\n",
              "      <td>1</td>\n",
              "      <td>Met hari netaas kak!? Wish you all the best @t...</td>\n",
              "      <td>abreviasi</td>\n",
              "      <td>0</td>\n",
              "      <td>0</td>\n",
              "    </tr>\n",
              "    <tr>\n",
              "      <th>3</th>\n",
              "      <td>netaas</td>\n",
              "      <td>menetas</td>\n",
              "      <td>1</td>\n",
              "      <td>Met hari netaas kak!? Wish you all the best @t...</td>\n",
              "      <td>afiksasi</td>\n",
              "      <td>elongasi</td>\n",
              "      <td>0</td>\n",
              "    </tr>\n",
              "    <tr>\n",
              "      <th>4</th>\n",
              "      <td>keberpa</td>\n",
              "      <td>keberapa</td>\n",
              "      <td>0</td>\n",
              "      <td>Birthday yg keberpa kak?</td>\n",
              "      <td>abreviasi</td>\n",
              "      <td>0</td>\n",
              "      <td>0</td>\n",
              "    </tr>\n",
              "    <tr>\n",
              "      <th>...</th>\n",
              "      <td>...</td>\n",
              "      <td>...</td>\n",
              "      <td>...</td>\n",
              "      <td>...</td>\n",
              "      <td>...</td>\n",
              "      <td>...</td>\n",
              "      <td>...</td>\n",
              "    </tr>\n",
              "    <tr>\n",
              "      <th>15001</th>\n",
              "      <td>gataunya</td>\n",
              "      <td>enggak taunya</td>\n",
              "      <td>0</td>\n",
              "      <td>Ini kaya nenek2 ya beb gataunya agnezz @yugime...</td>\n",
              "      <td>akronim</td>\n",
              "      <td>0</td>\n",
              "      <td>0</td>\n",
              "    </tr>\n",
              "    <tr>\n",
              "      <th>15002</th>\n",
              "      <td>gtau</td>\n",
              "      <td>enggak tau</td>\n",
              "      <td>0</td>\n",
              "      <td>Stidaknya mrka may berkarya Dan berusaha yg tr...</td>\n",
              "      <td>akronim</td>\n",
              "      <td>abreviasi</td>\n",
              "      <td>0</td>\n",
              "    </tr>\n",
              "    <tr>\n",
              "      <th>15003</th>\n",
              "      <td>gatau</td>\n",
              "      <td>enggak tau</td>\n",
              "      <td>0</td>\n",
              "      <td>Ih gatau malu</td>\n",
              "      <td>akronim</td>\n",
              "      <td>0</td>\n",
              "      <td>0</td>\n",
              "    </tr>\n",
              "    <tr>\n",
              "      <th>15004</th>\n",
              "      <td>fans2</td>\n",
              "      <td>fan-fan</td>\n",
              "      <td>0</td>\n",
              "      <td>Jkt48 adalah tempat di mana sesama fans saling...</td>\n",
              "      <td>reduplikasi</td>\n",
              "      <td>naturalisasi</td>\n",
              "      <td>0</td>\n",
              "    </tr>\n",
              "    <tr>\n",
              "      <th>15005</th>\n",
              "      <td>gaharus</td>\n",
              "      <td>enggak harus</td>\n",
              "      <td>0</td>\n",
              "      <td>belajar tuh bisa dimana aja gaharus belajar di...</td>\n",
              "      <td>akronim</td>\n",
              "      <td>0</td>\n",
              "      <td>0</td>\n",
              "    </tr>\n",
              "  </tbody>\n",
              "</table>\n",
              "<p>15006 rows × 7 columns</p>\n",
              "</div>\n",
              "      <button class=\"colab-df-convert\" onclick=\"convertToInteractive('df-16992470-c3f4-4e1f-89f6-74398391860e')\"\n",
              "              title=\"Convert this dataframe to an interactive table.\"\n",
              "              style=\"display:none;\">\n",
              "        \n",
              "  <svg xmlns=\"http://www.w3.org/2000/svg\" height=\"24px\"viewBox=\"0 0 24 24\"\n",
              "       width=\"24px\">\n",
              "    <path d=\"M0 0h24v24H0V0z\" fill=\"none\"/>\n",
              "    <path d=\"M18.56 5.44l.94 2.06.94-2.06 2.06-.94-2.06-.94-.94-2.06-.94 2.06-2.06.94zm-11 1L8.5 8.5l.94-2.06 2.06-.94-2.06-.94L8.5 2.5l-.94 2.06-2.06.94zm10 10l.94 2.06.94-2.06 2.06-.94-2.06-.94-.94-2.06-.94 2.06-2.06.94z\"/><path d=\"M17.41 7.96l-1.37-1.37c-.4-.4-.92-.59-1.43-.59-.52 0-1.04.2-1.43.59L10.3 9.45l-7.72 7.72c-.78.78-.78 2.05 0 2.83L4 21.41c.39.39.9.59 1.41.59.51 0 1.02-.2 1.41-.59l7.78-7.78 2.81-2.81c.8-.78.8-2.07 0-2.86zM5.41 20L4 18.59l7.72-7.72 1.47 1.35L5.41 20z\"/>\n",
              "  </svg>\n",
              "      </button>\n",
              "      \n",
              "  <style>\n",
              "    .colab-df-container {\n",
              "      display:flex;\n",
              "      flex-wrap:wrap;\n",
              "      gap: 12px;\n",
              "    }\n",
              "\n",
              "    .colab-df-convert {\n",
              "      background-color: #E8F0FE;\n",
              "      border: none;\n",
              "      border-radius: 50%;\n",
              "      cursor: pointer;\n",
              "      display: none;\n",
              "      fill: #1967D2;\n",
              "      height: 32px;\n",
              "      padding: 0 0 0 0;\n",
              "      width: 32px;\n",
              "    }\n",
              "\n",
              "    .colab-df-convert:hover {\n",
              "      background-color: #E2EBFA;\n",
              "      box-shadow: 0px 1px 2px rgba(60, 64, 67, 0.3), 0px 1px 3px 1px rgba(60, 64, 67, 0.15);\n",
              "      fill: #174EA6;\n",
              "    }\n",
              "\n",
              "    [theme=dark] .colab-df-convert {\n",
              "      background-color: #3B4455;\n",
              "      fill: #D2E3FC;\n",
              "    }\n",
              "\n",
              "    [theme=dark] .colab-df-convert:hover {\n",
              "      background-color: #434B5C;\n",
              "      box-shadow: 0px 1px 3px 1px rgba(0, 0, 0, 0.15);\n",
              "      filter: drop-shadow(0px 1px 2px rgba(0, 0, 0, 0.3));\n",
              "      fill: #FFFFFF;\n",
              "    }\n",
              "  </style>\n",
              "\n",
              "      <script>\n",
              "        const buttonEl =\n",
              "          document.querySelector('#df-16992470-c3f4-4e1f-89f6-74398391860e button.colab-df-convert');\n",
              "        buttonEl.style.display =\n",
              "          google.colab.kernel.accessAllowed ? 'block' : 'none';\n",
              "\n",
              "        async function convertToInteractive(key) {\n",
              "          const element = document.querySelector('#df-16992470-c3f4-4e1f-89f6-74398391860e');\n",
              "          const dataTable =\n",
              "            await google.colab.kernel.invokeFunction('convertToInteractive',\n",
              "                                                     [key], {});\n",
              "          if (!dataTable) return;\n",
              "\n",
              "          const docLinkHtml = 'Like what you see? Visit the ' +\n",
              "            '<a target=\"_blank\" href=https://colab.research.google.com/notebooks/data_table.ipynb>data table notebook</a>'\n",
              "            + ' to learn more about interactive tables.';\n",
              "          element.innerHTML = '';\n",
              "          dataTable['output_type'] = 'display_data';\n",
              "          await google.colab.output.renderOutput(dataTable, element);\n",
              "          const docLink = document.createElement('div');\n",
              "          docLink.innerHTML = docLinkHtml;\n",
              "          element.appendChild(docLink);\n",
              "        }\n",
              "      </script>\n",
              "    </div>\n",
              "  </div>\n",
              "  "
            ]
          },
          "metadata": {},
          "execution_count": 21
        }
      ],
      "source": [
        "slang_dictionary"
      ]
    },
    {
      "cell_type": "code",
      "execution_count": 22,
      "metadata": {
        "id": "oKY4TpfseKaE"
      },
      "outputs": [],
      "source": [
        "def Slangwords(text):\n",
        "    for word in text.split():\n",
        "        if word in slang_dict.keys():\n",
        "            text = text.replace(word, slang_dict[word])\n",
        "    return text"
      ]
    },
    {
      "cell_type": "code",
      "execution_count": 23,
      "metadata": {
        "id": "-IxF5t6BeKaF",
        "outputId": "d3e4d005-b951-46aa-be59-155c6519fa55",
        "colab": {
          "base_uri": "https://localhost:8080/"
        }
      },
      "outputs": [
        {
          "output_type": "execute_result",
          "data": {
            "text/plain": [
              "0    sinting nih minggu wifi jeblok dan akhirnyaaa ...\n",
              "1                indihome pagi pagi bikin emosi anying\n",
              "2    selamat pagi teman teman mau mengasih info nih...\n",
              "3    bila kita biasa diri dengan sifat maaf maka di...\n",
              "4    alhamdulillah rabu pagi ini cuaca cerah bikin ...\n",
              "Name: Text_Clean, dtype: object"
            ]
          },
          "metadata": {},
          "execution_count": 23
        }
      ],
      "source": [
        "df['Text_Clean'] = df['Text_Clean'].apply(Slangwords)\n",
        "df['Text_Clean'] = df['Text_Clean'].str.replace('mhs', 'mahasiswa')\n",
        "df['Text_Clean'].head()"
      ]
    },
    {
      "cell_type": "markdown",
      "metadata": {
        "id": "T31ICSGSeKaF"
      },
      "source": [
        "##**Stopword Removal**"
      ]
    },
    {
      "cell_type": "code",
      "execution_count": 24,
      "metadata": {
        "id": "opvs7AsneKaF"
      },
      "outputs": [],
      "source": [
        "stopword = StopWord() "
      ]
    },
    {
      "cell_type": "code",
      "execution_count": 25,
      "metadata": {
        "id": "HeY4oFJYeKaG",
        "outputId": "ba58ff15-70d8-4237-ac0b-d45d4e1ce162",
        "colab": {
          "base_uri": "https://localhost:8080/"
        }
      },
      "outputs": [
        {
          "output_type": "execute_result",
          "data": {
            "text/plain": [
              "0    sinting nih wifi jeblok akhirnyaaa full intern...\n",
              "1                indihome pagi pagi bikin emosi anying\n",
              "2    selamat pagi teman teman mengasih info nih kal...\n",
              "3    sifat maaf tentram hati tenang aktivitas onlin...\n",
              "4    pagi cuaca cerah bikin semangat langkah moga u...\n",
              "Name: Text_Clean, dtype: object"
            ]
          },
          "metadata": {},
          "execution_count": 25
        }
      ],
      "source": [
        "df['Text_Clean'] = df['Text_Clean'].apply(stopword.remove_stopword)\n",
        "df['Text_Clean'].head()"
      ]
    },
    {
      "cell_type": "markdown",
      "metadata": {
        "id": "5_f-V-KQeKaG"
      },
      "source": [
        "##**Unwanted Word Removal**"
      ]
    },
    {
      "cell_type": "code",
      "execution_count": 26,
      "metadata": {
        "id": "WE_b5cIbeKaH",
        "outputId": "42105c52-0228-4be9-9d99-64ad44ca023f",
        "colab": {
          "base_uri": "https://localhost:8080/"
        }
      },
      "outputs": [
        {
          "output_type": "stream",
          "name": "stderr",
          "text": [
            "[nltk_data] Downloading package punkt to /root/nltk_data...\n",
            "[nltk_data]   Package punkt is already up-to-date!\n"
          ]
        }
      ],
      "source": [
        "unwanted_words = ['indihome','cowok','jan', 'feb', 'mar', 'apr', 'may', 'jun', 'jul', 'aug', 'sep', 'oct', 'nov', 'dec', 'uaddown', 'weareuad', 'lam', 'https', 'igshid']\n",
        "import nltk\n",
        "from nltk import word_tokenize, sent_tokenize\n",
        "nltk.download('punkt')\n",
        "\n",
        "def RemoveUnwantedwords(text):\n",
        "    word_tokens = word_tokenize(text)\n",
        "    filtered_sentence = [word for word in word_tokens if not word in unwanted_words]\n",
        "    return ' '.join(filtered_sentence)"
      ]
    },
    {
      "cell_type": "code",
      "execution_count": 27,
      "metadata": {
        "id": "5iJTIf4ieKaH",
        "outputId": "f8c1d550-6b10-40c7-ffd8-a14b6ef8fe8b",
        "colab": {
          "base_uri": "https://localhost:8080/"
        }
      },
      "outputs": [
        {
          "output_type": "execute_result",
          "data": {
            "text/plain": [
              "0    sinting nih wifi jeblok akhirnyaaa full intern...\n",
              "1                         pagi pagi bikin emosi anying\n",
              "2    selamat pagi teman teman mengasih info nih kal...\n",
              "3    sifat maaf tentram hati tenang aktivitas onlin...\n",
              "4    pagi cuaca cerah bikin semangat langkah moga u...\n",
              "Name: Text_Clean, dtype: object"
            ]
          },
          "metadata": {},
          "execution_count": 27
        }
      ],
      "source": [
        "df['Text_Clean'] = df['Text_Clean'].apply(RemoveUnwantedwords)\n",
        "df['Text_Clean'].head()"
      ]
    },
    {
      "cell_type": "markdown",
      "metadata": {
        "id": "h0cTUQ2KeKaI"
      },
      "source": [
        "##**Remove Word Less Than 3 Letter**"
      ]
    },
    {
      "cell_type": "code",
      "execution_count": 28,
      "metadata": {
        "id": "rCv9Y9d2eKaI",
        "outputId": "3ef45fdd-ad6d-405e-ba85-7fe7a5278605",
        "colab": {
          "base_uri": "https://localhost:8080/"
        }
      },
      "outputs": [
        {
          "output_type": "execute_result",
          "data": {
            "text/plain": [
              "0    sinting nih wifi jeblok akhirnyaaa full intern...\n",
              "1                         pagi pagi bikin emosi anying\n",
              "2    selamat pagi teman teman mengasih info nih kal...\n",
              "3    sifat maaf tentram hati tenang aktivitas onlin...\n",
              "4    pagi cuaca cerah bikin semangat langkah moga u...\n",
              "Name: Text_Clean, dtype: object"
            ]
          },
          "metadata": {},
          "execution_count": 28
        }
      ],
      "source": [
        "df['Text_Clean'] = df['Text_Clean'].str.findall('\\w{3,}').str.join(' ')\n",
        "df['Text_Clean'].head()"
      ]
    },
    {
      "cell_type": "markdown",
      "metadata": {
        "id": "KqlS3hbMeKaI"
      },
      "source": [
        "##**Split Word**"
      ]
    },
    {
      "cell_type": "code",
      "execution_count": 29,
      "metadata": {
        "id": "YO9_hN7PeKaJ"
      },
      "outputs": [],
      "source": [
        "def split_word(teks):\n",
        "    list_teks = []\n",
        "    for txt in teks.split(\" \"):\n",
        "        list_teks.append(txt)\n",
        "    return list_teks"
      ]
    },
    {
      "cell_type": "code",
      "source": [
        "df['Text_Clean'].apply(split_word)"
      ],
      "metadata": {
        "colab": {
          "base_uri": "https://localhost:8080/"
        },
        "id": "k7H7jpgG2yO1",
        "outputId": "1c704226-ea99-4177-ae9c-c69f62478484"
      },
      "execution_count": 30,
      "outputs": [
        {
          "output_type": "execute_result",
          "data": {
            "text/plain": [
              "0       [sinting, nih, wifi, jeblok, akhirnyaaa, full,...\n",
              "1                      [pagi, pagi, bikin, emosi, anying]\n",
              "2       [selamat, pagi, teman, teman, mengasih, info, ...\n",
              "3       [sifat, maaf, tentram, hati, tenang, aktivitas...\n",
              "4       [pagi, cuaca, cerah, bikin, semangat, langkah,...\n",
              "                              ...                        \n",
              "4995                                               [kaum]\n",
              "4996    [min, enggak, tolong, min, calendarpun, proble...\n",
              "4997                                        [mengesalkan]\n",
              "4998                  [euh, kayak, enggak, muncul, pakai]\n",
              "4999    [hai, sobat, sila, kirim, nomor, internet, nam...\n",
              "Name: Text_Clean, Length: 5000, dtype: object"
            ]
          },
          "metadata": {},
          "execution_count": 30
        }
      ]
    },
    {
      "cell_type": "code",
      "execution_count": 31,
      "metadata": {
        "id": "szIjY9UQeKaJ",
        "outputId": "e55a910f-9c39-4cb3-a300-24a79cf9c139",
        "colab": {
          "base_uri": "https://localhost:8080/"
        }
      },
      "outputs": [
        {
          "output_type": "execute_result",
          "data": {
            "text/plain": [
              "0    [sinting, nih, wifi, jeblok, akhirnyaaa, full,...\n",
              "1                   [pagi, pagi, bikin, emosi, anying]\n",
              "2    [selamat, pagi, teman, teman, mengasih, info, ...\n",
              "3    [sifat, maaf, tentram, hati, tenang, aktivitas...\n",
              "4    [pagi, cuaca, cerah, bikin, semangat, langkah,...\n",
              "Name: Text_Clean_split, dtype: object"
            ]
          },
          "metadata": {},
          "execution_count": 31
        }
      ],
      "source": [
        "df['Text_Clean_split'] = df['Text_Clean'].apply(split_word)\n",
        "df['Text_Clean_split'].head()"
      ]
    },
    {
      "cell_type": "markdown",
      "metadata": {
        "id": "jc_aSaMieKaK"
      },
      "source": [
        "## Kolom Bulan Tahun"
      ]
    },
    {
      "cell_type": "code",
      "execution_count": 32,
      "metadata": {
        "id": "-d6SOYNVeKaK",
        "outputId": "7e98ffdf-2986-42bf-8360-3ad22e76b569",
        "colab": {
          "base_uri": "https://localhost:8080/",
          "height": 1000
        }
      },
      "outputs": [
        {
          "output_type": "execute_result",
          "data": {
            "text/plain": [
              "      Unnamed: 0  Unnamed: 0.1  \\\n",
              "0              0             0   \n",
              "1              1             1   \n",
              "2              2             2   \n",
              "3              3             3   \n",
              "4              4             4   \n",
              "...          ...           ...   \n",
              "4995        4995          4995   \n",
              "4996        4996          4996   \n",
              "4997        4997          4997   \n",
              "4998        4998          4998   \n",
              "4999        4999          4999   \n",
              "\n",
              "                                                    url  \\\n",
              "0     https://twitter.com/Denise_Tweety/status/15089...   \n",
              "1     https://twitter.com/Anzlnahrvi/status/15089563...   \n",
              "2     https://twitter.com/muhamma09485383/status/150...   \n",
              "3     https://twitter.com/kinosukina/status/15089555...   \n",
              "4     https://twitter.com/kinosukina/status/15089545...   \n",
              "...                                                 ...   \n",
              "4995  https://twitter.com/orangkasa/status/150737844...   \n",
              "4996  https://twitter.com/olivia9iant/status/1507378...   \n",
              "4997  https://twitter.com/jooyeonsyg/status/15073781...   \n",
              "4998  https://twitter.com/dkyeo_om/status/1507377504...   \n",
              "4999  https://twitter.com/IndiHomeCare/status/150737...   \n",
              "\n",
              "                          date  \\\n",
              "0    2022-03-29 23:57:46+00:00   \n",
              "1    2022-03-29 23:56:53+00:00   \n",
              "2    2022-03-29 23:54:57+00:00   \n",
              "3    2022-03-29 23:53:32+00:00   \n",
              "4    2022-03-29 23:49:46+00:00   \n",
              "...                        ...   \n",
              "4995 2022-03-25 15:26:41+00:00   \n",
              "4996 2022-03-25 15:26:04+00:00   \n",
              "4997 2022-03-25 15:25:38+00:00   \n",
              "4998 2022-03-25 15:22:57+00:00   \n",
              "4999 2022-03-25 15:22:29+00:00   \n",
              "\n",
              "                                                content  \\\n",
              "0     sinting nih @FirstMediaCares  seminggu wifi je...   \n",
              "1                 Indihome pagi pagi bikin emosi anying   \n",
              "2     Selamat pagi teman teman, mau ngasih info nih ...   \n",
              "3     Bila kita membiasakan diri dengan sifat pemaaf...   \n",
              "4     Alhamdulillah....\\nRabu pagi ini cuaca cerah\\n...   \n",
              "...                                                 ...   \n",
              "4995                    @crybely @sbyfess kaum indihome   \n",
              "4996  Min @IndiHome ga tertolong ya min, sampe calen...   \n",
              "4997                         indihome ngeselin bangettt   \n",
              "4998  euh kayaknya tl gue gak muncul karena pake ind...   \n",
              "4999  @accientsys Hai, Sobat. Silakan kirimkan nomor...   \n",
              "\n",
              "                                        renderedContent            id  \\\n",
              "0     sinting nih @FirstMediaCares  seminggu wifi je...  1.508957e+18   \n",
              "1                 Indihome pagi pagi bikin emosi anying  1.508956e+18   \n",
              "2     Selamat pagi teman teman, mau ngasih info nih ...  1.508956e+18   \n",
              "3     Bila kita membiasakan diri dengan sifat pemaaf...  1.508956e+18   \n",
              "4     Alhamdulillah....\\nRabu pagi ini cuaca cerah\\n...  1.508955e+18   \n",
              "...                                                 ...           ...   \n",
              "4995                    @crybely @sbyfess kaum indihome  1.507378e+18   \n",
              "4996  Min @IndiHome ga tertolong ya min, sampe calen...  1.507378e+18   \n",
              "4997                         indihome ngeselin bangettt  1.507378e+18   \n",
              "4998  euh kayaknya tl gue gak muncul karena pake ind...  1.507378e+18   \n",
              "4999  @accientsys Hai, Sobat. Silakan kirimkan nomor...  1.507377e+18   \n",
              "\n",
              "                                                   user  replyCount  \\\n",
              "0     {'username': 'Denise_Tweety', 'id': 51407976, ...           1   \n",
              "1     {'username': 'Anzlnahrvi', 'id': 1498572765816...           0   \n",
              "2     {'username': 'muhamma09485383', 'id': 14873251...           0   \n",
              "3     {'username': 'kinosukina', 'id': 2602416942, '...           0   \n",
              "4     {'username': 'kinosukina', 'id': 2602416942, '...           0   \n",
              "...                                                 ...         ...   \n",
              "4995  {'username': 'orangkasa', 'id': 11031636632742...           1   \n",
              "4996  {'username': 'olivia9iant', 'id': 76344889, 'd...           0   \n",
              "4997  {'username': 'jooyeonsyg', 'id': 1471143100361...           0   \n",
              "4998  {'username': 'dkyeo_om', 'id': 135645299391526...           0   \n",
              "4999  {'username': 'IndiHomeCare', 'id': 76503520089...           0   \n",
              "\n",
              "      retweetCount  ...  inReplyToTweetId  \\\n",
              "0                0  ...               NaN   \n",
              "1                0  ...               NaN   \n",
              "2                0  ...               NaN   \n",
              "3                0  ...               NaN   \n",
              "4                0  ...               NaN   \n",
              "...            ...  ...               ...   \n",
              "4995             0  ...      1.507378e+18   \n",
              "4996             0  ...               NaN   \n",
              "4997             0  ...               NaN   \n",
              "4998             0  ...               NaN   \n",
              "4999             0  ...      1.507356e+18   \n",
              "\n",
              "                                          inReplyToUser  \\\n",
              "0                                                   NaN   \n",
              "1                                                   NaN   \n",
              "2                                                   NaN   \n",
              "3                                                   NaN   \n",
              "4                                                   NaN   \n",
              "...                                                 ...   \n",
              "4995  {'username': 'crybely', 'id': 1312781156035649...   \n",
              "4996                                                NaN   \n",
              "4997                                                NaN   \n",
              "4998                                                NaN   \n",
              "4999  {'username': 'accientsys', 'id': 1449445977312...   \n",
              "\n",
              "                                         mentionedUsers  \\\n",
              "0     [{'username': 'FirstMediaCares', 'id': 1557875...   \n",
              "1                                                   NaN   \n",
              "2                                                   NaN   \n",
              "3                                                   NaN   \n",
              "4                                                   NaN   \n",
              "...                                                 ...   \n",
              "4995  [{'username': 'crybely', 'id': 131278115603564...   \n",
              "4996  [{'username': 'IndiHome', 'id': 10756730589318...   \n",
              "4997                                                NaN   \n",
              "4998                                                NaN   \n",
              "4999  [{'username': 'accientsys', 'id': 144944597731...   \n",
              "\n",
              "                                           coordinates  \\\n",
              "0                                                  NaN   \n",
              "1                                                  NaN   \n",
              "2                                                  NaN   \n",
              "3     {'longitude': 110.006125, 'latitude': -8.206926}   \n",
              "4     {'longitude': 110.006125, 'latitude': -8.206926}   \n",
              "...                                                ...   \n",
              "4995                                               NaN   \n",
              "4996                                               NaN   \n",
              "4997                                               NaN   \n",
              "4998                                               NaN   \n",
              "4999                                               NaN   \n",
              "\n",
              "                                                  place  \\\n",
              "0                                                   NaN   \n",
              "1                                                   NaN   \n",
              "2                                                   NaN   \n",
              "3     {'fullName': 'Yogyakarta, Indonesia', 'name': ...   \n",
              "4     {'fullName': 'Yogyakarta, Indonesia', 'name': ...   \n",
              "...                                                 ...   \n",
              "4995                                                NaN   \n",
              "4996                                                NaN   \n",
              "4997                                                NaN   \n",
              "4998                                                NaN   \n",
              "4999                                                NaN   \n",
              "\n",
              "                                             hashtags cashtags  \\\n",
              "0                                                 NaN      NaN   \n",
              "1                                                 NaN      NaN   \n",
              "2     ['AktivitasTanpaBatas', 'InternetnyaIndonesia']      NaN   \n",
              "3                                                 NaN      NaN   \n",
              "4                                                 NaN      NaN   \n",
              "...                                               ...      ...   \n",
              "4995                                              NaN      NaN   \n",
              "4996                                              NaN      NaN   \n",
              "4997                                              NaN      NaN   \n",
              "4998                                              NaN      NaN   \n",
              "4999                                              NaN      NaN   \n",
              "\n",
              "                                             Text_Clean  \\\n",
              "0     sinting nih wifi jeblok akhirnyaaa full intern...   \n",
              "1                          pagi pagi bikin emosi anying   \n",
              "2     selamat pagi teman teman mengasih info nih kal...   \n",
              "3     sifat maaf tentram hati tenang aktivitas onlin...   \n",
              "4     pagi cuaca cerah bikin semangat langkah moga u...   \n",
              "...                                                 ...   \n",
              "4995                                               kaum   \n",
              "4996  min enggak tolong min calendarpun problem load...   \n",
              "4997                                        mengesalkan   \n",
              "4998                      euh kayak enggak muncul pakai   \n",
              "4999  hai sobat sila kirim nomor internet nama milik...   \n",
              "\n",
              "                                        Text_Clean_Tala  \\\n",
              "0     sinting nih minggu wifi jeblok dan akhirnyaaa ...   \n",
              "1                 indihome pagi pagi bikin emosi anying   \n",
              "2     selamat pagi teman teman mau ngasih info nih k...   \n",
              "3     bila kita biasa diri dengan sifat maaf maka di...   \n",
              "4     alhamdulillah rabu pagi ini cuaca cerah bikin ...   \n",
              "...                                                 ...   \n",
              "4995                                      kaum indihome   \n",
              "4996  min ga tolong ya min sampe calendarpun problem...   \n",
              "4997                         indihome ngeselin bangettt   \n",
              "4998   euh kayak tl gue gak muncul karena pake indihome   \n",
              "4999  hai sobat sila kirim nomor internet nama milik...   \n",
              "\n",
              "                                       Text_Clean_split  \n",
              "0     [sinting, nih, wifi, jeblok, akhirnyaaa, full,...  \n",
              "1                    [pagi, pagi, bikin, emosi, anying]  \n",
              "2     [selamat, pagi, teman, teman, mengasih, info, ...  \n",
              "3     [sifat, maaf, tentram, hati, tenang, aktivitas...  \n",
              "4     [pagi, cuaca, cerah, bikin, semangat, langkah,...  \n",
              "...                                                 ...  \n",
              "4995                                             [kaum]  \n",
              "4996  [min, enggak, tolong, min, calendarpun, proble...  \n",
              "4997                                      [mengesalkan]  \n",
              "4998                [euh, kayak, enggak, muncul, pakai]  \n",
              "4999  [hai, sobat, sila, kirim, nomor, internet, nam...  \n",
              "\n",
              "[5000 rows x 32 columns]"
            ],
            "text/html": [
              "\n",
              "  <div id=\"df-c2e4cc5e-aa1d-4e25-a498-f64bbec84e08\">\n",
              "    <div class=\"colab-df-container\">\n",
              "      <div>\n",
              "<style scoped>\n",
              "    .dataframe tbody tr th:only-of-type {\n",
              "        vertical-align: middle;\n",
              "    }\n",
              "\n",
              "    .dataframe tbody tr th {\n",
              "        vertical-align: top;\n",
              "    }\n",
              "\n",
              "    .dataframe thead th {\n",
              "        text-align: right;\n",
              "    }\n",
              "</style>\n",
              "<table border=\"1\" class=\"dataframe\">\n",
              "  <thead>\n",
              "    <tr style=\"text-align: right;\">\n",
              "      <th></th>\n",
              "      <th>Unnamed: 0</th>\n",
              "      <th>Unnamed: 0.1</th>\n",
              "      <th>url</th>\n",
              "      <th>date</th>\n",
              "      <th>content</th>\n",
              "      <th>renderedContent</th>\n",
              "      <th>id</th>\n",
              "      <th>user</th>\n",
              "      <th>replyCount</th>\n",
              "      <th>retweetCount</th>\n",
              "      <th>...</th>\n",
              "      <th>inReplyToTweetId</th>\n",
              "      <th>inReplyToUser</th>\n",
              "      <th>mentionedUsers</th>\n",
              "      <th>coordinates</th>\n",
              "      <th>place</th>\n",
              "      <th>hashtags</th>\n",
              "      <th>cashtags</th>\n",
              "      <th>Text_Clean</th>\n",
              "      <th>Text_Clean_Tala</th>\n",
              "      <th>Text_Clean_split</th>\n",
              "    </tr>\n",
              "  </thead>\n",
              "  <tbody>\n",
              "    <tr>\n",
              "      <th>0</th>\n",
              "      <td>0</td>\n",
              "      <td>0</td>\n",
              "      <td>https://twitter.com/Denise_Tweety/status/15089...</td>\n",
              "      <td>2022-03-29 23:57:46+00:00</td>\n",
              "      <td>sinting nih @FirstMediaCares  seminggu wifi je...</td>\n",
              "      <td>sinting nih @FirstMediaCares  seminggu wifi je...</td>\n",
              "      <td>1.508957e+18</td>\n",
              "      <td>{'username': 'Denise_Tweety', 'id': 51407976, ...</td>\n",
              "      <td>1</td>\n",
              "      <td>0</td>\n",
              "      <td>...</td>\n",
              "      <td>NaN</td>\n",
              "      <td>NaN</td>\n",
              "      <td>[{'username': 'FirstMediaCares', 'id': 1557875...</td>\n",
              "      <td>NaN</td>\n",
              "      <td>NaN</td>\n",
              "      <td>NaN</td>\n",
              "      <td>NaN</td>\n",
              "      <td>sinting nih wifi jeblok akhirnyaaa full intern...</td>\n",
              "      <td>sinting nih minggu wifi jeblok dan akhirnyaaa ...</td>\n",
              "      <td>[sinting, nih, wifi, jeblok, akhirnyaaa, full,...</td>\n",
              "    </tr>\n",
              "    <tr>\n",
              "      <th>1</th>\n",
              "      <td>1</td>\n",
              "      <td>1</td>\n",
              "      <td>https://twitter.com/Anzlnahrvi/status/15089563...</td>\n",
              "      <td>2022-03-29 23:56:53+00:00</td>\n",
              "      <td>Indihome pagi pagi bikin emosi anying</td>\n",
              "      <td>Indihome pagi pagi bikin emosi anying</td>\n",
              "      <td>1.508956e+18</td>\n",
              "      <td>{'username': 'Anzlnahrvi', 'id': 1498572765816...</td>\n",
              "      <td>0</td>\n",
              "      <td>0</td>\n",
              "      <td>...</td>\n",
              "      <td>NaN</td>\n",
              "      <td>NaN</td>\n",
              "      <td>NaN</td>\n",
              "      <td>NaN</td>\n",
              "      <td>NaN</td>\n",
              "      <td>NaN</td>\n",
              "      <td>NaN</td>\n",
              "      <td>pagi pagi bikin emosi anying</td>\n",
              "      <td>indihome pagi pagi bikin emosi anying</td>\n",
              "      <td>[pagi, pagi, bikin, emosi, anying]</td>\n",
              "    </tr>\n",
              "    <tr>\n",
              "      <th>2</th>\n",
              "      <td>2</td>\n",
              "      <td>2</td>\n",
              "      <td>https://twitter.com/muhamma09485383/status/150...</td>\n",
              "      <td>2022-03-29 23:54:57+00:00</td>\n",
              "      <td>Selamat pagi teman teman, mau ngasih info nih ...</td>\n",
              "      <td>Selamat pagi teman teman, mau ngasih info nih ...</td>\n",
              "      <td>1.508956e+18</td>\n",
              "      <td>{'username': 'muhamma09485383', 'id': 14873251...</td>\n",
              "      <td>0</td>\n",
              "      <td>0</td>\n",
              "      <td>...</td>\n",
              "      <td>NaN</td>\n",
              "      <td>NaN</td>\n",
              "      <td>NaN</td>\n",
              "      <td>NaN</td>\n",
              "      <td>NaN</td>\n",
              "      <td>['AktivitasTanpaBatas', 'InternetnyaIndonesia']</td>\n",
              "      <td>NaN</td>\n",
              "      <td>selamat pagi teman teman mengasih info nih kal...</td>\n",
              "      <td>selamat pagi teman teman mau ngasih info nih k...</td>\n",
              "      <td>[selamat, pagi, teman, teman, mengasih, info, ...</td>\n",
              "    </tr>\n",
              "    <tr>\n",
              "      <th>3</th>\n",
              "      <td>3</td>\n",
              "      <td>3</td>\n",
              "      <td>https://twitter.com/kinosukina/status/15089555...</td>\n",
              "      <td>2022-03-29 23:53:32+00:00</td>\n",
              "      <td>Bila kita membiasakan diri dengan sifat pemaaf...</td>\n",
              "      <td>Bila kita membiasakan diri dengan sifat pemaaf...</td>\n",
              "      <td>1.508956e+18</td>\n",
              "      <td>{'username': 'kinosukina', 'id': 2602416942, '...</td>\n",
              "      <td>0</td>\n",
              "      <td>0</td>\n",
              "      <td>...</td>\n",
              "      <td>NaN</td>\n",
              "      <td>NaN</td>\n",
              "      <td>NaN</td>\n",
              "      <td>{'longitude': 110.006125, 'latitude': -8.206926}</td>\n",
              "      <td>{'fullName': 'Yogyakarta, Indonesia', 'name': ...</td>\n",
              "      <td>NaN</td>\n",
              "      <td>NaN</td>\n",
              "      <td>sifat maaf tentram hati tenang aktivitas onlin...</td>\n",
              "      <td>bila kita biasa diri dengan sifat maaf maka di...</td>\n",
              "      <td>[sifat, maaf, tentram, hati, tenang, aktivitas...</td>\n",
              "    </tr>\n",
              "    <tr>\n",
              "      <th>4</th>\n",
              "      <td>4</td>\n",
              "      <td>4</td>\n",
              "      <td>https://twitter.com/kinosukina/status/15089545...</td>\n",
              "      <td>2022-03-29 23:49:46+00:00</td>\n",
              "      <td>Alhamdulillah....\\nRabu pagi ini cuaca cerah\\n...</td>\n",
              "      <td>Alhamdulillah....\\nRabu pagi ini cuaca cerah\\n...</td>\n",
              "      <td>1.508955e+18</td>\n",
              "      <td>{'username': 'kinosukina', 'id': 2602416942, '...</td>\n",
              "      <td>0</td>\n",
              "      <td>0</td>\n",
              "      <td>...</td>\n",
              "      <td>NaN</td>\n",
              "      <td>NaN</td>\n",
              "      <td>NaN</td>\n",
              "      <td>{'longitude': 110.006125, 'latitude': -8.206926}</td>\n",
              "      <td>{'fullName': 'Yogyakarta, Indonesia', 'name': ...</td>\n",
              "      <td>NaN</td>\n",
              "      <td>NaN</td>\n",
              "      <td>pagi cuaca cerah bikin semangat langkah moga u...</td>\n",
              "      <td>alhamdulillah rabu pagi ini cuaca cerah bikin ...</td>\n",
              "      <td>[pagi, cuaca, cerah, bikin, semangat, langkah,...</td>\n",
              "    </tr>\n",
              "    <tr>\n",
              "      <th>...</th>\n",
              "      <td>...</td>\n",
              "      <td>...</td>\n",
              "      <td>...</td>\n",
              "      <td>...</td>\n",
              "      <td>...</td>\n",
              "      <td>...</td>\n",
              "      <td>...</td>\n",
              "      <td>...</td>\n",
              "      <td>...</td>\n",
              "      <td>...</td>\n",
              "      <td>...</td>\n",
              "      <td>...</td>\n",
              "      <td>...</td>\n",
              "      <td>...</td>\n",
              "      <td>...</td>\n",
              "      <td>...</td>\n",
              "      <td>...</td>\n",
              "      <td>...</td>\n",
              "      <td>...</td>\n",
              "      <td>...</td>\n",
              "      <td>...</td>\n",
              "    </tr>\n",
              "    <tr>\n",
              "      <th>4995</th>\n",
              "      <td>4995</td>\n",
              "      <td>4995</td>\n",
              "      <td>https://twitter.com/orangkasa/status/150737844...</td>\n",
              "      <td>2022-03-25 15:26:41+00:00</td>\n",
              "      <td>@crybely @sbyfess kaum indihome</td>\n",
              "      <td>@crybely @sbyfess kaum indihome</td>\n",
              "      <td>1.507378e+18</td>\n",
              "      <td>{'username': 'orangkasa', 'id': 11031636632742...</td>\n",
              "      <td>1</td>\n",
              "      <td>0</td>\n",
              "      <td>...</td>\n",
              "      <td>1.507378e+18</td>\n",
              "      <td>{'username': 'crybely', 'id': 1312781156035649...</td>\n",
              "      <td>[{'username': 'crybely', 'id': 131278115603564...</td>\n",
              "      <td>NaN</td>\n",
              "      <td>NaN</td>\n",
              "      <td>NaN</td>\n",
              "      <td>NaN</td>\n",
              "      <td>kaum</td>\n",
              "      <td>kaum indihome</td>\n",
              "      <td>[kaum]</td>\n",
              "    </tr>\n",
              "    <tr>\n",
              "      <th>4996</th>\n",
              "      <td>4996</td>\n",
              "      <td>4996</td>\n",
              "      <td>https://twitter.com/olivia9iant/status/1507378...</td>\n",
              "      <td>2022-03-25 15:26:04+00:00</td>\n",
              "      <td>Min @IndiHome ga tertolong ya min, sampe calen...</td>\n",
              "      <td>Min @IndiHome ga tertolong ya min, sampe calen...</td>\n",
              "      <td>1.507378e+18</td>\n",
              "      <td>{'username': 'olivia9iant', 'id': 76344889, 'd...</td>\n",
              "      <td>0</td>\n",
              "      <td>0</td>\n",
              "      <td>...</td>\n",
              "      <td>NaN</td>\n",
              "      <td>NaN</td>\n",
              "      <td>[{'username': 'IndiHome', 'id': 10756730589318...</td>\n",
              "      <td>NaN</td>\n",
              "      <td>NaN</td>\n",
              "      <td>NaN</td>\n",
              "      <td>NaN</td>\n",
              "      <td>min enggak tolong min calendarpun problem load...</td>\n",
              "      <td>min ga tolong ya min sampe calendarpun problem...</td>\n",
              "      <td>[min, enggak, tolong, min, calendarpun, proble...</td>\n",
              "    </tr>\n",
              "    <tr>\n",
              "      <th>4997</th>\n",
              "      <td>4997</td>\n",
              "      <td>4997</td>\n",
              "      <td>https://twitter.com/jooyeonsyg/status/15073781...</td>\n",
              "      <td>2022-03-25 15:25:38+00:00</td>\n",
              "      <td>indihome ngeselin bangettt</td>\n",
              "      <td>indihome ngeselin bangettt</td>\n",
              "      <td>1.507378e+18</td>\n",
              "      <td>{'username': 'jooyeonsyg', 'id': 1471143100361...</td>\n",
              "      <td>0</td>\n",
              "      <td>0</td>\n",
              "      <td>...</td>\n",
              "      <td>NaN</td>\n",
              "      <td>NaN</td>\n",
              "      <td>NaN</td>\n",
              "      <td>NaN</td>\n",
              "      <td>NaN</td>\n",
              "      <td>NaN</td>\n",
              "      <td>NaN</td>\n",
              "      <td>mengesalkan</td>\n",
              "      <td>indihome ngeselin bangettt</td>\n",
              "      <td>[mengesalkan]</td>\n",
              "    </tr>\n",
              "    <tr>\n",
              "      <th>4998</th>\n",
              "      <td>4998</td>\n",
              "      <td>4998</td>\n",
              "      <td>https://twitter.com/dkyeo_om/status/1507377504...</td>\n",
              "      <td>2022-03-25 15:22:57+00:00</td>\n",
              "      <td>euh kayaknya tl gue gak muncul karena pake ind...</td>\n",
              "      <td>euh kayaknya tl gue gak muncul karena pake ind...</td>\n",
              "      <td>1.507378e+18</td>\n",
              "      <td>{'username': 'dkyeo_om', 'id': 135645299391526...</td>\n",
              "      <td>0</td>\n",
              "      <td>0</td>\n",
              "      <td>...</td>\n",
              "      <td>NaN</td>\n",
              "      <td>NaN</td>\n",
              "      <td>NaN</td>\n",
              "      <td>NaN</td>\n",
              "      <td>NaN</td>\n",
              "      <td>NaN</td>\n",
              "      <td>NaN</td>\n",
              "      <td>euh kayak enggak muncul pakai</td>\n",
              "      <td>euh kayak tl gue gak muncul karena pake indihome</td>\n",
              "      <td>[euh, kayak, enggak, muncul, pakai]</td>\n",
              "    </tr>\n",
              "    <tr>\n",
              "      <th>4999</th>\n",
              "      <td>4999</td>\n",
              "      <td>4999</td>\n",
              "      <td>https://twitter.com/IndiHomeCare/status/150737...</td>\n",
              "      <td>2022-03-25 15:22:29+00:00</td>\n",
              "      <td>@accientsys Hai, Sobat. Silakan kirimkan nomor...</td>\n",
              "      <td>@accientsys Hai, Sobat. Silakan kirimkan nomor...</td>\n",
              "      <td>1.507377e+18</td>\n",
              "      <td>{'username': 'IndiHomeCare', 'id': 76503520089...</td>\n",
              "      <td>0</td>\n",
              "      <td>0</td>\n",
              "      <td>...</td>\n",
              "      <td>1.507356e+18</td>\n",
              "      <td>{'username': 'accientsys', 'id': 1449445977312...</td>\n",
              "      <td>[{'username': 'accientsys', 'id': 144944597731...</td>\n",
              "      <td>NaN</td>\n",
              "      <td>NaN</td>\n",
              "      <td>NaN</td>\n",
              "      <td>NaN</td>\n",
              "      <td>hai sobat sila kirim nomor internet nama milik...</td>\n",
              "      <td>hai sobat sila kirim nomor internet nama milik...</td>\n",
              "      <td>[hai, sobat, sila, kirim, nomor, internet, nam...</td>\n",
              "    </tr>\n",
              "  </tbody>\n",
              "</table>\n",
              "<p>5000 rows × 32 columns</p>\n",
              "</div>\n",
              "      <button class=\"colab-df-convert\" onclick=\"convertToInteractive('df-c2e4cc5e-aa1d-4e25-a498-f64bbec84e08')\"\n",
              "              title=\"Convert this dataframe to an interactive table.\"\n",
              "              style=\"display:none;\">\n",
              "        \n",
              "  <svg xmlns=\"http://www.w3.org/2000/svg\" height=\"24px\"viewBox=\"0 0 24 24\"\n",
              "       width=\"24px\">\n",
              "    <path d=\"M0 0h24v24H0V0z\" fill=\"none\"/>\n",
              "    <path d=\"M18.56 5.44l.94 2.06.94-2.06 2.06-.94-2.06-.94-.94-2.06-.94 2.06-2.06.94zm-11 1L8.5 8.5l.94-2.06 2.06-.94-2.06-.94L8.5 2.5l-.94 2.06-2.06.94zm10 10l.94 2.06.94-2.06 2.06-.94-2.06-.94-.94-2.06-.94 2.06-2.06.94z\"/><path d=\"M17.41 7.96l-1.37-1.37c-.4-.4-.92-.59-1.43-.59-.52 0-1.04.2-1.43.59L10.3 9.45l-7.72 7.72c-.78.78-.78 2.05 0 2.83L4 21.41c.39.39.9.59 1.41.59.51 0 1.02-.2 1.41-.59l7.78-7.78 2.81-2.81c.8-.78.8-2.07 0-2.86zM5.41 20L4 18.59l7.72-7.72 1.47 1.35L5.41 20z\"/>\n",
              "  </svg>\n",
              "      </button>\n",
              "      \n",
              "  <style>\n",
              "    .colab-df-container {\n",
              "      display:flex;\n",
              "      flex-wrap:wrap;\n",
              "      gap: 12px;\n",
              "    }\n",
              "\n",
              "    .colab-df-convert {\n",
              "      background-color: #E8F0FE;\n",
              "      border: none;\n",
              "      border-radius: 50%;\n",
              "      cursor: pointer;\n",
              "      display: none;\n",
              "      fill: #1967D2;\n",
              "      height: 32px;\n",
              "      padding: 0 0 0 0;\n",
              "      width: 32px;\n",
              "    }\n",
              "\n",
              "    .colab-df-convert:hover {\n",
              "      background-color: #E2EBFA;\n",
              "      box-shadow: 0px 1px 2px rgba(60, 64, 67, 0.3), 0px 1px 3px 1px rgba(60, 64, 67, 0.15);\n",
              "      fill: #174EA6;\n",
              "    }\n",
              "\n",
              "    [theme=dark] .colab-df-convert {\n",
              "      background-color: #3B4455;\n",
              "      fill: #D2E3FC;\n",
              "    }\n",
              "\n",
              "    [theme=dark] .colab-df-convert:hover {\n",
              "      background-color: #434B5C;\n",
              "      box-shadow: 0px 1px 3px 1px rgba(0, 0, 0, 0.15);\n",
              "      filter: drop-shadow(0px 1px 2px rgba(0, 0, 0, 0.3));\n",
              "      fill: #FFFFFF;\n",
              "    }\n",
              "  </style>\n",
              "\n",
              "      <script>\n",
              "        const buttonEl =\n",
              "          document.querySelector('#df-c2e4cc5e-aa1d-4e25-a498-f64bbec84e08 button.colab-df-convert');\n",
              "        buttonEl.style.display =\n",
              "          google.colab.kernel.accessAllowed ? 'block' : 'none';\n",
              "\n",
              "        async function convertToInteractive(key) {\n",
              "          const element = document.querySelector('#df-c2e4cc5e-aa1d-4e25-a498-f64bbec84e08');\n",
              "          const dataTable =\n",
              "            await google.colab.kernel.invokeFunction('convertToInteractive',\n",
              "                                                     [key], {});\n",
              "          if (!dataTable) return;\n",
              "\n",
              "          const docLinkHtml = 'Like what you see? Visit the ' +\n",
              "            '<a target=\"_blank\" href=https://colab.research.google.com/notebooks/data_table.ipynb>data table notebook</a>'\n",
              "            + ' to learn more about interactive tables.';\n",
              "          element.innerHTML = '';\n",
              "          dataTable['output_type'] = 'display_data';\n",
              "          await google.colab.output.renderOutput(dataTable, element);\n",
              "          const docLink = document.createElement('div');\n",
              "          docLink.innerHTML = docLinkHtml;\n",
              "          element.appendChild(docLink);\n",
              "        }\n",
              "      </script>\n",
              "    </div>\n",
              "  </div>\n",
              "  "
            ]
          },
          "metadata": {},
          "execution_count": 32
        }
      ],
      "source": [
        "df['date']=pd.to_datetime(df['date'])\n",
        "df"
      ]
    },
    {
      "cell_type": "markdown",
      "metadata": {
        "id": "CNUf4_j4eKaK"
      },
      "source": [
        "## Pelabelan Kolom Sentiment"
      ]
    },
    {
      "cell_type": "code",
      "execution_count": 33,
      "metadata": {
        "id": "sXbuwoWLeKaL"
      },
      "outputs": [],
      "source": [
        "# Daftar Kata-kata Positif Bahasa Indonesia\n",
        "df_positive = pd.read_csv('positive.txt', sep='\\t')\n",
        "list_positive = list(df_positive.iloc[::,0])\n",
        "# Daftar Kata-kata Negatif Bahasa Indonesia\n",
        "df_negative = pd.read_csv('negative.txt', sep='\\t')\n",
        "list_negative = list(df_negative.iloc[::,0])\n",
        "        \n",
        "# Menghitung kata-kata positif/negatif pada data teks dan menentukan sentimennya   \n",
        "def sentiment_analysis_lexicon_indonesia(text):\n",
        "    score = 0\n",
        "    for word in text:\n",
        "        if (word in list_positive):\n",
        "            score += 1\n",
        "    for word in text:\n",
        "        if (word in list_negative):\n",
        "            score -= 1\n",
        "    polarity=''\n",
        "    if (score > 0):\n",
        "        polarity = 'positive'\n",
        "    elif (score < 0):\n",
        "        polarity = 'negative'\n",
        "    else:\n",
        "        polarity = 'neutral'\n",
        "    return score, polarity"
      ]
    },
    {
      "cell_type": "code",
      "execution_count": 34,
      "metadata": {
        "id": "saUA4q16eKaL",
        "outputId": "8e327fe4-fcf8-498e-a2d6-c3c560b2e777",
        "colab": {
          "base_uri": "https://localhost:8080/"
        }
      },
      "outputs": [
        {
          "output_type": "execute_result",
          "data": {
            "text/plain": [
              "positive    1904\n",
              "neutral     1781\n",
              "negative    1315\n",
              "Name: polarity, dtype: int64"
            ]
          },
          "metadata": {},
          "execution_count": 34
        }
      ],
      "source": [
        "hasil = df['Text_Clean_split'].apply(sentiment_analysis_lexicon_indonesia)\n",
        "hasil = list(zip(*hasil))\n",
        "df['polarity_score'] = hasil[0]\n",
        "df['polarity'] = hasil[1]\n",
        "df.polarity.value_counts()"
      ]
    },
    {
      "cell_type": "code",
      "source": [
        "df['polarity']"
      ],
      "metadata": {
        "colab": {
          "base_uri": "https://localhost:8080/"
        },
        "id": "WJGcgTFxYECr",
        "outputId": "3dc776cf-c524-4615-b20d-4c78ba78376f"
      },
      "execution_count": 35,
      "outputs": [
        {
          "output_type": "execute_result",
          "data": {
            "text/plain": [
              "0       negative\n",
              "1        neutral\n",
              "2        neutral\n",
              "3        neutral\n",
              "4       positive\n",
              "          ...   \n",
              "4995     neutral\n",
              "4996    negative\n",
              "4997     neutral\n",
              "4998    negative\n",
              "4999    positive\n",
              "Name: polarity, Length: 5000, dtype: object"
            ]
          },
          "metadata": {},
          "execution_count": 35
        }
      ]
    },
    {
      "cell_type": "code",
      "execution_count": 36,
      "metadata": {
        "id": "uBZzBKoAeKaM"
      },
      "outputs": [],
      "source": [
        "### Pie Plot Sentiment"
      ]
    },
    {
      "cell_type": "code",
      "execution_count": 37,
      "metadata": {
        "id": "4IpcgNfWeKaM",
        "outputId": "a184fed0-f491-48f2-e3ae-fb9617bc8569",
        "colab": {
          "base_uri": "https://localhost:8080/",
          "height": 389
        }
      },
      "outputs": [
        {
          "output_type": "display_data",
          "data": {
            "text/plain": [
              "<Figure size 432x432 with 1 Axes>"
            ],
            "image/png": "[encoded data removed]"
          },
          "metadata": {}
        }
      ],
      "source": [
        "fig, ax = plt.subplots(figsize = (6, 6))\n",
        "sizes = [count for count in df['polarity'].value_counts()]\n",
        "labels = list(df['polarity'].value_counts().index)\n",
        "explode = (0.1, 0, 0)\n",
        "colors = ['#66b3ff', '#ffcc99', '#ff9999']\n",
        "ax.pie(x = sizes, labels = labels, colors=colors, autopct = '%1.1f%%', explode = explode, textprops={'fontsize': 14})\n",
        "ax.set_title('Sentiment Polarity Pada Data Twitter', fontsize = 16, pad = 20)\n",
        "plt.show()"
      ]
    },
    {
      "cell_type": "markdown",
      "metadata": {
        "id": "WZ8tGntleKaM"
      },
      "source": [
        "## 10 Tweet Dengan Sentiment Positif dan Negatif Tertinggi"
      ]
    },
    {
      "cell_type": "code",
      "execution_count": 38,
      "metadata": {
        "id": "9J-Lvv2yeKaN",
        "outputId": "916ba20f-2894-4523-bd5e-65233247ef36",
        "colab": {
          "base_uri": "https://localhost:8080/",
          "height": 563
        }
      },
      "outputs": [
        {
          "output_type": "execute_result",
          "data": {
            "text/plain": [
              "                                                                                                                                                                                                                                                                     Text_Clean_split  \\\n",
              "1                                                                                        [team, seleksi, tahap, tahap, temu, grandfinal, borobudur, cup, yuk, dukung, team, jago, saksi, menang, team, jago, grandfinal, jam, wib, sobat, indihomeborobudurcup, internetnyaindonesia]   \n",
              "2                                                                                                [halo, kak, miminki, prosedur, pasang, telepon, rumah, lokasi, tercover, jaring, sedia, pasang, lokasi, kakak, registrasi, paket, telepon, only, plasa, telkom, terima, kasih, joro]   \n",
              "3   [kerja, santai, bentar, mendengarkan, lagu, bikin, happy, langsung, play, happy, songs, spotify, internetnya, lancar, mendengarkannya, pakai, langsung, deh, mendengarkan, smile, katy, perry, then, memakai, smile, and, happy, sore, internetnyaindonesia, aktivitastanpabatas]   \n",
              "4                                                                                                 [halo, sobat, maaf, lambat, respons, dryan, cek, jaring, nomor, internet, pantau, stabil, pakai, device, hubung, jaring, lokasi, kendala, tunggu, konfirmasi, terima, kasih, dryan]   \n",
              "5                                                                                                  [halo, sob, ranking, nih, poin, ribu, ranking, poin, sobat, sob, bayangkan, poin, rupiah, enggak, tuh, yuk, daftar, sobat, kejar, poin, internetnyaindonesia, aktivitastanpabatas]   \n",
              "6                                                                                                                                                                             [hai, kak, ramon, estimasi, pasang, jam, hitung, jaring, lokasi, langgan, sedia, terima, kasih, mariya]   \n",
              "7                                                                                                                                                           [hai, kak, narsha, caris, informasi, estimasi, pasang, jam, hitung, jaring, lokasi, langgan, sedia, terima, kasih, caris]   \n",
              "8                                                                                                                                                                                      [asik, menonton, musik, mancanegara, channel, mtv, live, lagu, lagu, update, langsung, nikmat]   \n",
              "9                                                                                                                                       [halo, kak, tia, isa, informasi, estimasi, pasang, jam, hitung, jaring, lokasi, langgan, sedia, kakak, saksi, streaming, liga, nrbwfwckaliaz]   \n",
              "10                                                                                                                    [selamat, sob, sibuk, aktivitas, enjoy, enjoy, your, live, enjoy, your, day, enjoy, your, work, with, aktivitastanpabatas, internetnyaindonesia, indihomembois]   \n",
              "\n",
              "    polarity_score  polarity  \n",
              "1                9  positive  \n",
              "2                8  positive  \n",
              "3                8  positive  \n",
              "4                8  positive  \n",
              "5                7  positive  \n",
              "6                7  positive  \n",
              "7                7  positive  \n",
              "8                7  positive  \n",
              "9                7  positive  \n",
              "10               7  positive  "
            ],
            "text/html": [
              "\n",
              "  <div id=\"df-373f5a07-69bd-488e-9b2d-65d3fb17ca90\">\n",
              "    <div class=\"colab-df-container\">\n",
              "      <div>\n",
              "<style scoped>\n",
              "    .dataframe tbody tr th:only-of-type {\n",
              "        vertical-align: middle;\n",
              "    }\n",
              "\n",
              "    .dataframe tbody tr th {\n",
              "        vertical-align: top;\n",
              "    }\n",
              "\n",
              "    .dataframe thead th {\n",
              "        text-align: right;\n",
              "    }\n",
              "</style>\n",
              "<table border=\"1\" class=\"dataframe\">\n",
              "  <thead>\n",
              "    <tr style=\"text-align: right;\">\n",
              "      <th></th>\n",
              "      <th>Text_Clean_split</th>\n",
              "      <th>polarity_score</th>\n",
              "      <th>polarity</th>\n",
              "    </tr>\n",
              "  </thead>\n",
              "  <tbody>\n",
              "    <tr>\n",
              "      <th>1</th>\n",
              "      <td>[team, seleksi, tahap, tahap, temu, grandfinal, borobudur, cup, yuk, dukung, team, jago, saksi, menang, team, jago, grandfinal, jam, wib, sobat, indihomeborobudurcup, internetnyaindonesia]</td>\n",
              "      <td>9</td>\n",
              "      <td>positive</td>\n",
              "    </tr>\n",
              "    <tr>\n",
              "      <th>2</th>\n",
              "      <td>[halo, kak, miminki, prosedur, pasang, telepon, rumah, lokasi, tercover, jaring, sedia, pasang, lokasi, kakak, registrasi, paket, telepon, only, plasa, telkom, terima, kasih, joro]</td>\n",
              "      <td>8</td>\n",
              "      <td>positive</td>\n",
              "    </tr>\n",
              "    <tr>\n",
              "      <th>3</th>\n",
              "      <td>[kerja, santai, bentar, mendengarkan, lagu, bikin, happy, langsung, play, happy, songs, spotify, internetnya, lancar, mendengarkannya, pakai, langsung, deh, mendengarkan, smile, katy, perry, then, memakai, smile, and, happy, sore, internetnyaindonesia, aktivitastanpabatas]</td>\n",
              "      <td>8</td>\n",
              "      <td>positive</td>\n",
              "    </tr>\n",
              "    <tr>\n",
              "      <th>4</th>\n",
              "      <td>[halo, sobat, maaf, lambat, respons, dryan, cek, jaring, nomor, internet, pantau, stabil, pakai, device, hubung, jaring, lokasi, kendala, tunggu, konfirmasi, terima, kasih, dryan]</td>\n",
              "      <td>8</td>\n",
              "      <td>positive</td>\n",
              "    </tr>\n",
              "    <tr>\n",
              "      <th>5</th>\n",
              "      <td>[halo, sob, ranking, nih, poin, ribu, ranking, poin, sobat, sob, bayangkan, poin, rupiah, enggak, tuh, yuk, daftar, sobat, kejar, poin, internetnyaindonesia, aktivitastanpabatas]</td>\n",
              "      <td>7</td>\n",
              "      <td>positive</td>\n",
              "    </tr>\n",
              "    <tr>\n",
              "      <th>6</th>\n",
              "      <td>[hai, kak, ramon, estimasi, pasang, jam, hitung, jaring, lokasi, langgan, sedia, terima, kasih, mariya]</td>\n",
              "      <td>7</td>\n",
              "      <td>positive</td>\n",
              "    </tr>\n",
              "    <tr>\n",
              "      <th>7</th>\n",
              "      <td>[hai, kak, narsha, caris, informasi, estimasi, pasang, jam, hitung, jaring, lokasi, langgan, sedia, terima, kasih, caris]</td>\n",
              "      <td>7</td>\n",
              "      <td>positive</td>\n",
              "    </tr>\n",
              "    <tr>\n",
              "      <th>8</th>\n",
              "      <td>[asik, menonton, musik, mancanegara, channel, mtv, live, lagu, lagu, update, langsung, nikmat]</td>\n",
              "      <td>7</td>\n",
              "      <td>positive</td>\n",
              "    </tr>\n",
              "    <tr>\n",
              "      <th>9</th>\n",
              "      <td>[halo, kak, tia, isa, informasi, estimasi, pasang, jam, hitung, jaring, lokasi, langgan, sedia, kakak, saksi, streaming, liga, nrbwfwckaliaz]</td>\n",
              "      <td>7</td>\n",
              "      <td>positive</td>\n",
              "    </tr>\n",
              "    <tr>\n",
              "      <th>10</th>\n",
              "      <td>[selamat, sob, sibuk, aktivitas, enjoy, enjoy, your, live, enjoy, your, day, enjoy, your, work, with, aktivitastanpabatas, internetnyaindonesia, indihomembois]</td>\n",
              "      <td>7</td>\n",
              "      <td>positive</td>\n",
              "    </tr>\n",
              "  </tbody>\n",
              "</table>\n",
              "</div>\n",
              "      <button class=\"colab-df-convert\" onclick=\"convertToInteractive('df-373f5a07-69bd-488e-9b2d-65d3fb17ca90')\"\n",
              "              title=\"Convert this dataframe to an interactive table.\"\n",
              "              style=\"display:none;\">\n",
              "        \n",
              "  <svg xmlns=\"http://www.w3.org/2000/svg\" height=\"24px\"viewBox=\"0 0 24 24\"\n",
              "       width=\"24px\">\n",
              "    <path d=\"M0 0h24v24H0V0z\" fill=\"none\"/>\n",
              "    <path d=\"M18.56 5.44l.94 2.06.94-2.06 2.06-.94-2.06-.94-.94-2.06-.94 2.06-2.06.94zm-11 1L8.5 8.5l.94-2.06 2.06-.94-2.06-.94L8.5 2.5l-.94 2.06-2.06.94zm10 10l.94 2.06.94-2.06 2.06-.94-2.06-.94-.94-2.06-.94 2.06-2.06.94z\"/><path d=\"M17.41 7.96l-1.37-1.37c-.4-.4-.92-.59-1.43-.59-.52 0-1.04.2-1.43.59L10.3 9.45l-7.72 7.72c-.78.78-.78 2.05 0 2.83L4 21.41c.39.39.9.59 1.41.59.51 0 1.02-.2 1.41-.59l7.78-7.78 2.81-2.81c.8-.78.8-2.07 0-2.86zM5.41 20L4 18.59l7.72-7.72 1.47 1.35L5.41 20z\"/>\n",
              "  </svg>\n",
              "      </button>\n",
              "      \n",
              "  <style>\n",
              "    .colab-df-container {\n",
              "      display:flex;\n",
              "      flex-wrap:wrap;\n",
              "      gap: 12px;\n",
              "    }\n",
              "\n",
              "    .colab-df-convert {\n",
              "      background-color: #E8F0FE;\n",
              "      border: none;\n",
              "      border-radius: 50%;\n",
              "      cursor: pointer;\n",
              "      display: none;\n",
              "      fill: #1967D2;\n",
              "      height: 32px;\n",
              "      padding: 0 0 0 0;\n",
              "      width: 32px;\n",
              "    }\n",
              "\n",
              "    .colab-df-convert:hover {\n",
              "      background-color: #E2EBFA;\n",
              "      box-shadow: 0px 1px 2px rgba(60, 64, 67, 0.3), 0px 1px 3px 1px rgba(60, 64, 67, 0.15);\n",
              "      fill: #174EA6;\n",
              "    }\n",
              "\n",
              "    [theme=dark] .colab-df-convert {\n",
              "      background-color: #3B4455;\n",
              "      fill: #D2E3FC;\n",
              "    }\n",
              "\n",
              "    [theme=dark] .colab-df-convert:hover {\n",
              "      background-color: #434B5C;\n",
              "      box-shadow: 0px 1px 3px 1px rgba(0, 0, 0, 0.15);\n",
              "      filter: drop-shadow(0px 1px 2px rgba(0, 0, 0, 0.3));\n",
              "      fill: #FFFFFF;\n",
              "    }\n",
              "  </style>\n",
              "\n",
              "      <script>\n",
              "        const buttonEl =\n",
              "          document.querySelector('#df-373f5a07-69bd-488e-9b2d-65d3fb17ca90 button.colab-df-convert');\n",
              "        buttonEl.style.display =\n",
              "          google.colab.kernel.accessAllowed ? 'block' : 'none';\n",
              "\n",
              "        async function convertToInteractive(key) {\n",
              "          const element = document.querySelector('#df-373f5a07-69bd-488e-9b2d-65d3fb17ca90');\n",
              "          const dataTable =\n",
              "            await google.colab.kernel.invokeFunction('convertToInteractive',\n",
              "                                                     [key], {});\n",
              "          if (!dataTable) return;\n",
              "\n",
              "          const docLinkHtml = 'Like what you see? Visit the ' +\n",
              "            '<a target=\"_blank\" href=https://colab.research.google.com/notebooks/data_table.ipynb>data table notebook</a>'\n",
              "            + ' to learn more about interactive tables.';\n",
              "          element.innerHTML = '';\n",
              "          dataTable['output_type'] = 'display_data';\n",
              "          await google.colab.output.renderOutput(dataTable, element);\n",
              "          const docLink = document.createElement('div');\n",
              "          docLink.innerHTML = docLinkHtml;\n",
              "          element.appendChild(docLink);\n",
              "        }\n",
              "      </script>\n",
              "    </div>\n",
              "  </div>\n",
              "  "
            ]
          },
          "metadata": {},
          "execution_count": 38
        }
      ],
      "source": [
        "pd.set_option('display.max_colwidth', 3000)\n",
        "positive_review = df[df['polarity'] == 'positive']\n",
        "positive_review = positive_review[['Text_Clean_split', 'polarity_score', 'polarity']].sort_values(by = 'polarity_score', ascending=False).reset_index(drop = True)\n",
        "positive_review.index += 1\n",
        "positive_review[0:10]"
      ]
    },
    {
      "cell_type": "code",
      "execution_count": 39,
      "metadata": {
        "id": "1X3-Rf5EeKaO",
        "outputId": "32398d08-9889-41f9-d5a0-466b1107a0d6",
        "colab": {
          "base_uri": "https://localhost:8080/",
          "height": 363
        }
      },
      "outputs": [
        {
          "output_type": "execute_result",
          "data": {
            "text/plain": [
              "                                                                  Text_Clean_split  \\\n",
              "1                      [plis, rusak, romantisasi, admin, internetnya, kayao, tahi]   \n",
              "2   [drakoran, pakai, seru, anti, lelet, loading, aktivitastanpabatas, mhucmihquh]   \n",
              "3                                              [piket, malam, aktivitastanpabatas]   \n",
              "4                                                              [admin, bot, orang]   \n",
              "5                                                           [naur, isn, that, bad]   \n",
              "6                                 [besar, tagih, myrepublic, first, media, tweeps]   \n",
              "7                                            [anjir, kuota, benaran, habis, nyala]   \n",
              "8                                              [coba, bukti, capek, kecewa, layan]   \n",
              "9                                                   [bayare, larang, trobel, kiro]   \n",
              "10                                                               [lot, deh, buset]   \n",
              "\n",
              "    polarity_score  polarity  \n",
              "1               -1  negative  \n",
              "2               -1  negative  \n",
              "3               -1  negative  \n",
              "4               -1  negative  \n",
              "5               -1  negative  \n",
              "6               -1  negative  \n",
              "7               -1  negative  \n",
              "8               -1  negative  \n",
              "9               -1  negative  \n",
              "10              -1  negative  "
            ],
            "text/html": [
              "\n",
              "  <div id=\"df-68246c29-c636-47a7-af19-fc3bcee5cfbc\">\n",
              "    <div class=\"colab-df-container\">\n",
              "      <div>\n",
              "<style scoped>\n",
              "    .dataframe tbody tr th:only-of-type {\n",
              "        vertical-align: middle;\n",
              "    }\n",
              "\n",
              "    .dataframe tbody tr th {\n",
              "        vertical-align: top;\n",
              "    }\n",
              "\n",
              "    .dataframe thead th {\n",
              "        text-align: right;\n",
              "    }\n",
              "</style>\n",
              "<table border=\"1\" class=\"dataframe\">\n",
              "  <thead>\n",
              "    <tr style=\"text-align: right;\">\n",
              "      <th></th>\n",
              "      <th>Text_Clean_split</th>\n",
              "      <th>polarity_score</th>\n",
              "      <th>polarity</th>\n",
              "    </tr>\n",
              "  </thead>\n",
              "  <tbody>\n",
              "    <tr>\n",
              "      <th>1</th>\n",
              "      <td>[plis, rusak, romantisasi, admin, internetnya, kayao, tahi]</td>\n",
              "      <td>-1</td>\n",
              "      <td>negative</td>\n",
              "    </tr>\n",
              "    <tr>\n",
              "      <th>2</th>\n",
              "      <td>[drakoran, pakai, seru, anti, lelet, loading, aktivitastanpabatas, mhucmihquh]</td>\n",
              "      <td>-1</td>\n",
              "      <td>negative</td>\n",
              "    </tr>\n",
              "    <tr>\n",
              "      <th>3</th>\n",
              "      <td>[piket, malam, aktivitastanpabatas]</td>\n",
              "      <td>-1</td>\n",
              "      <td>negative</td>\n",
              "    </tr>\n",
              "    <tr>\n",
              "      <th>4</th>\n",
              "      <td>[admin, bot, orang]</td>\n",
              "      <td>-1</td>\n",
              "      <td>negative</td>\n",
              "    </tr>\n",
              "    <tr>\n",
              "      <th>5</th>\n",
              "      <td>[naur, isn, that, bad]</td>\n",
              "      <td>-1</td>\n",
              "      <td>negative</td>\n",
              "    </tr>\n",
              "    <tr>\n",
              "      <th>6</th>\n",
              "      <td>[besar, tagih, myrepublic, first, media, tweeps]</td>\n",
              "      <td>-1</td>\n",
              "      <td>negative</td>\n",
              "    </tr>\n",
              "    <tr>\n",
              "      <th>7</th>\n",
              "      <td>[anjir, kuota, benaran, habis, nyala]</td>\n",
              "      <td>-1</td>\n",
              "      <td>negative</td>\n",
              "    </tr>\n",
              "    <tr>\n",
              "      <th>8</th>\n",
              "      <td>[coba, bukti, capek, kecewa, layan]</td>\n",
              "      <td>-1</td>\n",
              "      <td>negative</td>\n",
              "    </tr>\n",
              "    <tr>\n",
              "      <th>9</th>\n",
              "      <td>[bayare, larang, trobel, kiro]</td>\n",
              "      <td>-1</td>\n",
              "      <td>negative</td>\n",
              "    </tr>\n",
              "    <tr>\n",
              "      <th>10</th>\n",
              "      <td>[lot, deh, buset]</td>\n",
              "      <td>-1</td>\n",
              "      <td>negative</td>\n",
              "    </tr>\n",
              "  </tbody>\n",
              "</table>\n",
              "</div>\n",
              "      <button class=\"colab-df-convert\" onclick=\"convertToInteractive('df-68246c29-c636-47a7-af19-fc3bcee5cfbc')\"\n",
              "              title=\"Convert this dataframe to an interactive table.\"\n",
              "              style=\"display:none;\">\n",
              "        \n",
              "  <svg xmlns=\"http://www.w3.org/2000/svg\" height=\"24px\"viewBox=\"0 0 24 24\"\n",
              "       width=\"24px\">\n",
              "    <path d=\"M0 0h24v24H0V0z\" fill=\"none\"/>\n",
              "    <path d=\"M18.56 5.44l.94 2.06.94-2.06 2.06-.94-2.06-.94-.94-2.06-.94 2.06-2.06.94zm-11 1L8.5 8.5l.94-2.06 2.06-.94-2.06-.94L8.5 2.5l-.94 2.06-2.06.94zm10 10l.94 2.06.94-2.06 2.06-.94-2.06-.94-.94-2.06-.94 2.06-2.06.94z\"/><path d=\"M17.41 7.96l-1.37-1.37c-.4-.4-.92-.59-1.43-.59-.52 0-1.04.2-1.43.59L10.3 9.45l-7.72 7.72c-.78.78-.78 2.05 0 2.83L4 21.41c.39.39.9.59 1.41.59.51 0 1.02-.2 1.41-.59l7.78-7.78 2.81-2.81c.8-.78.8-2.07 0-2.86zM5.41 20L4 18.59l7.72-7.72 1.47 1.35L5.41 20z\"/>\n",
              "  </svg>\n",
              "      </button>\n",
              "      \n",
              "  <style>\n",
              "    .colab-df-container {\n",
              "      display:flex;\n",
              "      flex-wrap:wrap;\n",
              "      gap: 12px;\n",
              "    }\n",
              "\n",
              "    .colab-df-convert {\n",
              "      background-color: #E8F0FE;\n",
              "      border: none;\n",
              "      border-radius: 50%;\n",
              "      cursor: pointer;\n",
              "      display: none;\n",
              "      fill: #1967D2;\n",
              "      height: 32px;\n",
              "      padding: 0 0 0 0;\n",
              "      width: 32px;\n",
              "    }\n",
              "\n",
              "    .colab-df-convert:hover {\n",
              "      background-color: #E2EBFA;\n",
              "      box-shadow: 0px 1px 2px rgba(60, 64, 67, 0.3), 0px 1px 3px 1px rgba(60, 64, 67, 0.15);\n",
              "      fill: #174EA6;\n",
              "    }\n",
              "\n",
              "    [theme=dark] .colab-df-convert {\n",
              "      background-color: #3B4455;\n",
              "      fill: #D2E3FC;\n",
              "    }\n",
              "\n",
              "    [theme=dark] .colab-df-convert:hover {\n",
              "      background-color: #434B5C;\n",
              "      box-shadow: 0px 1px 3px 1px rgba(0, 0, 0, 0.15);\n",
              "      filter: drop-shadow(0px 1px 2px rgba(0, 0, 0, 0.3));\n",
              "      fill: #FFFFFF;\n",
              "    }\n",
              "  </style>\n",
              "\n",
              "      <script>\n",
              "        const buttonEl =\n",
              "          document.querySelector('#df-68246c29-c636-47a7-af19-fc3bcee5cfbc button.colab-df-convert');\n",
              "        buttonEl.style.display =\n",
              "          google.colab.kernel.accessAllowed ? 'block' : 'none';\n",
              "\n",
              "        async function convertToInteractive(key) {\n",
              "          const element = document.querySelector('#df-68246c29-c636-47a7-af19-fc3bcee5cfbc');\n",
              "          const dataTable =\n",
              "            await google.colab.kernel.invokeFunction('convertToInteractive',\n",
              "                                                     [key], {});\n",
              "          if (!dataTable) return;\n",
              "\n",
              "          const docLinkHtml = 'Like what you see? Visit the ' +\n",
              "            '<a target=\"_blank\" href=https://colab.research.google.com/notebooks/data_table.ipynb>data table notebook</a>'\n",
              "            + ' to learn more about interactive tables.';\n",
              "          element.innerHTML = '';\n",
              "          dataTable['output_type'] = 'display_data';\n",
              "          await google.colab.output.renderOutput(dataTable, element);\n",
              "          const docLink = document.createElement('div');\n",
              "          docLink.innerHTML = docLinkHtml;\n",
              "          element.appendChild(docLink);\n",
              "        }\n",
              "      </script>\n",
              "    </div>\n",
              "  </div>\n",
              "  "
            ]
          },
          "metadata": {},
          "execution_count": 39
        }
      ],
      "source": [
        "pd.set_option('display.max_colwidth', 3000)\n",
        "negative_review = df[df['polarity'] == 'negative']\n",
        "negative_review = negative_review[['Text_Clean_split', 'polarity_score', 'polarity']].sort_values(by = 'polarity_score', ascending=False).reset_index(drop = True)\n",
        "negative_review.index += 1\n",
        "negative_review[0:10]"
      ]
    },
    {
      "cell_type": "markdown",
      "metadata": {
        "id": "HVu3IATceKaP"
      },
      "source": [
        "# Word Cloud"
      ]
    },
    {
      "cell_type": "markdown",
      "metadata": {
        "id": "vT1qBO9VeKaQ"
      },
      "source": [
        "## Word Cloud Teks Processed"
      ]
    },
    {
      "cell_type": "code",
      "execution_count": 40,
      "metadata": {
        "id": "nRwFwYX1eKaQ",
        "outputId": "e583db6d-6cfe-47c8-fb90-4f4b0f72d64e",
        "colab": {
          "base_uri": "https://localhost:8080/",
          "height": 418
        }
      },
      "outputs": [
        {
          "output_type": "display_data",
          "data": {
            "text/plain": [
              "<Figure size 576x432 with 1 Axes>"
            ],
            "image/png": "[encoded data removed]"
          },
          "metadata": {
            "needs_background": "light"
          }
        }
      ],
      "source": [
        "from wordcloud import WordCloud\n",
        "list_words=''\n",
        "for review in df['Text_Clean_split']:\n",
        "    for word in review:\n",
        "        list_words += ' '+(word)\n",
        "        \n",
        "wordcloud = WordCloud(width = 600, height = 400, background_color = 'black', min_font_size = 10).generate(list_words)\n",
        "fig, ax = plt.subplots(figsize = (8, 6))\n",
        "ax.set_title('Word Cloud pada Data Tweet', fontsize = 18)\n",
        "ax.grid(False)\n",
        "ax.imshow((wordcloud))\n",
        "fig.tight_layout(pad=0)\n",
        "ax.axis('off')\n",
        "plt.show()"
      ]
    },
    {
      "cell_type": "markdown",
      "metadata": {
        "id": "vMQt37rLeKaR"
      },
      "source": [
        "## Word Cloud Negative Vs Positive"
      ]
    },
    {
      "cell_type": "code",
      "execution_count": 41,
      "metadata": {
        "id": "i_oiUUOWeKaR",
        "outputId": "47b22e19-5626-45d3-dc81-fd9d9bbee898",
        "colab": {
          "base_uri": "https://localhost:8080/",
          "height": 378
        }
      },
      "outputs": [
        {
          "output_type": "display_data",
          "data": {
            "text/plain": [
              "<Figure size 864x720 with 2 Axes>"
            ],
            "image/png": "[encoded data removed]"
          },
          "metadata": {
            "needs_background": "light"
          }
        }
      ],
      "source": [
        "positive_words = positive_review['Text_Clean_split']\n",
        "\n",
        "fig, ax = plt.subplots(1, 2,figsize = (12, 10))\n",
        "list_words_postive=''\n",
        "for row_word in positive_words:\n",
        "    for word in row_word:\n",
        "        list_words_postive += ' '+(word)\n",
        "wordcloud_positive = WordCloud(width = 800, height = 600, background_color = 'black', colormap = 'Greens'\n",
        "                               , min_font_size = 10).generate(list_words_postive)\n",
        "ax[0].set_title('Word Cloud of Positive Words Twitter Data \\n (based on Indonesia Sentiment Lexicon)', fontsize = 14)\n",
        "ax[0].grid(False)\n",
        "ax[0].imshow((wordcloud_positive))\n",
        "fig.tight_layout(pad=0)\n",
        "ax[0].axis('off')\n",
        "\n",
        "negative_words = negative_review['Text_Clean_split']\n",
        "\n",
        "list_words_negative=''\n",
        "for row_word in negative_words:\n",
        "    for word in row_word:\n",
        "        list_words_negative += ' '+(word)\n",
        "wordcloud_negative = WordCloud(width = 800, height = 600, background_color = 'black', colormap = 'Reds'\n",
        "                               , min_font_size = 10).generate(list_words_negative)\n",
        "ax[1].set_title('Word Cloud of Negative Words Twitter Data  \\n (based on Indonesia Sentiment Lexicon)', fontsize = 14)\n",
        "ax[1].grid(False)\n",
        "ax[1].imshow((wordcloud_negative))\n",
        "fig.tight_layout(pad=0)\n",
        "ax[1].axis('off')\n",
        "\n",
        "plt.show()"
      ]
    },
    {
      "cell_type": "code",
      "source": [
        "df['Text_Clean']"
      ],
      "metadata": {
        "colab": {
          "base_uri": "https://localhost:8080/"
        },
        "id": "AtWHkZJ5VjzH",
        "outputId": "932b588e-6bc2-4ac6-c370-95444c97be63"
      },
      "execution_count": 42,
      "outputs": [
        {
          "output_type": "execute_result",
          "data": {
            "text/plain": [
              "0                                              sinting nih wifi jeblok akhirnyaaa full internet amp kabel mulu should change\n",
              "1                                                                                               pagi pagi bikin emosi anying\n",
              "2       selamat pagi teman teman mengasih info nih kalo internet sinyal bikin asyik aktivitastanpabatas internetnyaindonesia\n",
              "3                                                                sifat maaf tentram hati tenang aktivitas online pakai orang\n",
              "4            pagi cuaca cerah bikin semangat langkah moga urus mudah hasil penuh berkah urus online biar mudah sebar wilayah\n",
              "                                                                ...                                                         \n",
              "4995                                                                                                                    kaum\n",
              "4996                                                         min enggak tolong min calendarpun problem loading malam loh min\n",
              "4997                                                                                                             mengesalkan\n",
              "4998                                                                                           euh kayak enggak muncul pakai\n",
              "4999    hai sobat sila kirim nomor internet nama milik alamat instalasi tagih lunas relasi milik nomor utama alternatif jaga\n",
              "Name: Text_Clean, Length: 5000, dtype: object"
            ]
          },
          "metadata": {},
          "execution_count": 42
        }
      ]
    },
    {
      "cell_type": "code",
      "source": [
        "df['polarity']"
      ],
      "metadata": {
        "colab": {
          "base_uri": "https://localhost:8080/"
        },
        "id": "7fJHDPryZweM",
        "outputId": "7cbd6187-bcff-48e4-cba5-18db1cd09f3a"
      },
      "execution_count": 43,
      "outputs": [
        {
          "output_type": "execute_result",
          "data": {
            "text/plain": [
              "0       negative\n",
              "1        neutral\n",
              "2        neutral\n",
              "3        neutral\n",
              "4       positive\n",
              "          ...   \n",
              "4995     neutral\n",
              "4996    negative\n",
              "4997     neutral\n",
              "4998    negative\n",
              "4999    positive\n",
              "Name: polarity, Length: 5000, dtype: object"
            ]
          },
          "metadata": {},
          "execution_count": 43
        }
      ]
    },
    {
      "cell_type": "markdown",
      "source": [
        "##**10 Kata pada Sentimen Positif**"
      ],
      "metadata": {
        "id": "DWcn9KA14Tid"
      }
    },
    {
      "cell_type": "code",
      "source": [
        "def split_word2(teks):\n",
        "    temp = teks.split() # split words\n",
        "    temp = \" \".join(word for word in temp) # join all words\n",
        "\n",
        "    return temp"
      ],
      "metadata": {
        "id": "0ICD1c522mna"
      },
      "execution_count": 44,
      "outputs": []
    },
    {
      "cell_type": "code",
      "source": [
        "# 1. WORDCLOUD CONTENT SENTIMEN NEGATIF & POSITIVE\n",
        "kata_positif = pd.Series(\" \".join(df[df[\"polarity\"] == 'positive'][\"Text_Clean\"].astype(\"str\")).split())\n",
        "kata_negatif = pd.Series(\" \".join(df[df[\"polarity\"] == 'negative'][\"Text_Clean\"].astype(\"str\")).split())"
      ],
      "metadata": {
        "id": "N8ViGQ0n3la_"
      },
      "execution_count": 45,
      "outputs": []
    },
    {
      "cell_type": "code",
      "source": [
        "# SENTIMEN positif\n",
        "\n",
        "positif_kata = kata_positif.value_counts().nlargest(10)\n",
        "\n",
        "positif_x = positif_kata.index\n",
        "positif_y = positif_kata.values\n",
        "\n",
        "plt.figure(figsize = (12, 10))\n",
        "plt.bar(positif_x, positif_y)\n",
        "plt.xlabel(\"Kata\", fontweight ='bold')\n",
        "plt.ylabel(\"Frekuensi\", fontweight ='bold')\n",
        "plt.title(\"Kata pada Sentimen positif\", fontweight ='bold', fontsize = 14)\n",
        "\n",
        "plt.xticks(positif_x, rotation = 30)\n",
        "\n",
        "plt.show()"
      ],
      "metadata": {
        "colab": {
          "base_uri": "https://localhost:8080/",
          "height": 674
        },
        "id": "XrAP4v9I5KVR",
        "outputId": "6b3c347a-5def-4376-8e7b-4576ca2c2fd5"
      },
      "execution_count": 46,
      "outputs": [
        {
          "output_type": "display_data",
          "data": {
            "text/plain": [
              "<Figure size 864x720 with 1 Axes>"
            ],
            "image/png": "[encoded data removed]"
          },
          "metadata": {
            "needs_background": "light"
          }
        }
      ]
    },
    {
      "cell_type": "markdown",
      "source": [
        "##**10 Kata pada Sentimen Negatif**"
      ],
      "metadata": {
        "id": "oCiPUzuN52gW"
      }
    },
    {
      "cell_type": "code",
      "source": [
        "# SENTIMEN NEGATIF\n",
        "\n",
        "negatif_kata = kata_negatif.value_counts().nlargest(10)\n",
        "\n",
        "negatif_x = negatif_kata.index\n",
        "negatif_y = negatif_kata.values\n",
        "\n",
        "plt.figure(figsize = (12, 10))\n",
        "plt.bar(negatif_x, negatif_y)\n",
        "plt.xlabel(\"Kata\", fontweight ='bold')\n",
        "plt.ylabel(\"Frekuensi\", fontweight ='bold')\n",
        "plt.title(\"Kata pada Sentimen Negatif\", fontweight ='bold', fontsize = 14)\n",
        "\n",
        "plt.xticks(negatif_x, rotation = 30)\n",
        "\n",
        "plt.show()"
      ],
      "metadata": {
        "colab": {
          "base_uri": "https://localhost:8080/",
          "height": 671
        },
        "id": "vHlxiWgl4IC3",
        "outputId": "8eb251c2-998b-4b90-9e9c-bd61b03bd230"
      },
      "execution_count": 47,
      "outputs": [
        {
          "output_type": "display_data",
          "data": {
            "text/plain": [
              "<Figure size 864x720 with 1 Axes>"
            ],
            "image/png": "[encoded data removed]"
          },
          "metadata": {
            "needs_background": "light"
          }
        }
      ]
    },
    {
      "cell_type": "markdown",
      "source": [
        "#**Modelling dengan Sastrawi**"
      ],
      "metadata": {
        "id": "Q_O4xH84x502"
      }
    },
    {
      "cell_type": "markdown",
      "source": [
        "##**Membagi Data Menjadi Train dan Test**"
      ],
      "metadata": {
        "id": "pF1BOmFOx_tD"
      }
    },
    {
      "cell_type": "code",
      "source": [
        "from sklearn.model_selection import train_test_split\n",
        "X_train,X_test,y_train,y_test = train_test_split(df['Text_Clean'],df['polarity'],test_size = 0.2,random_state = 42)"
      ],
      "metadata": {
        "id": "8M1f2KC5YU1n"
      },
      "execution_count": 48,
      "outputs": []
    },
    {
      "cell_type": "markdown",
      "source": [
        "##**LabelEncoder dan TFIDF**"
      ],
      "metadata": {
        "id": "gpaNImgGyFym"
      }
    },
    {
      "cell_type": "code",
      "source": [
        "from sklearn.preprocessing import LabelEncoder\n",
        "Encoder = LabelEncoder()\n",
        "y_train = Encoder.fit_transform(y_train)\n",
        "y_test = Encoder.fit_transform(y_test)"
      ],
      "metadata": {
        "id": "LWjw3-UMZkcE"
      },
      "execution_count": 49,
      "outputs": []
    },
    {
      "cell_type": "code",
      "source": [
        "from sklearn.feature_extraction.text import TfidfVectorizer\n",
        "Tfidf_vect = TfidfVectorizer(max_features=510)\n",
        "Tfidf_vect.fit(df['Text_Clean'])\n",
        "Train_X_Tfidf = Tfidf_vect.transform(X_train)\n",
        "Test_X_Tfidf = Tfidf_vect.transform(X_test)"
      ],
      "metadata": {
        "id": "EaExT8oZZuIs"
      },
      "execution_count": 50,
      "outputs": []
    },
    {
      "cell_type": "code",
      "source": [
        "Train_X_Tfidf.toarray()"
      ],
      "metadata": {
        "colab": {
          "base_uri": "https://localhost:8080/"
        },
        "id": "MiOzpBJMZ9BM",
        "outputId": "10ac57be-6125-4fb2-a36e-dd75bbd7c687"
      },
      "execution_count": 51,
      "outputs": [
        {
          "output_type": "execute_result",
          "data": {
            "text/plain": [
              "array([[0., 0., 0., ..., 0., 0., 0.],\n",
              "       [0., 0., 0., ..., 0., 0., 0.],\n",
              "       [0., 0., 0., ..., 0., 0., 0.],\n",
              "       ...,\n",
              "       [0., 0., 0., ..., 0., 0., 0.],\n",
              "       [0., 0., 0., ..., 0., 0., 0.],\n",
              "       [0., 0., 0., ..., 0., 0., 0.]])"
            ]
          },
          "metadata": {},
          "execution_count": 51
        }
      ]
    },
    {
      "cell_type": "markdown",
      "source": [
        "##**Multinomial Naive Bayes**"
      ],
      "metadata": {
        "id": "tuPDBhv5yKD6"
      }
    },
    {
      "cell_type": "code",
      "source": [
        "#klasifikasi naive bayes\n",
        "from sklearn.naive_bayes import MultinomialNB\n",
        "from sklearn.metrics import accuracy_score, precision_score, recall_score, f1_score\n",
        "from sklearn.metrics import classification_report\n",
        "from sklearn.metrics import confusion_matrix\n",
        "\n",
        "clf = MultinomialNB().fit(Train_X_Tfidf.toarray(), y_train)\n",
        "predicted = clf.predict(Test_X_Tfidf.toarray())\n",
        "print(\"MultinomialNB Accuracy:\" , accuracy_score(y_test,predicted))\n",
        "print(f'confusion matrix:\\n {confusion_matrix(y_test, predicted)}')\n",
        "print('-----------------------------------------------\\n')\n",
        "print(classification_report(y_test,predicted,zero_division=0))"
      ],
      "metadata": {
        "colab": {
          "base_uri": "https://localhost:8080/"
        },
        "id": "4Ls-QtN7Z_ic",
        "outputId": "471d9c5e-1afa-49ac-f01c-62a24f5406c2"
      },
      "execution_count": 52,
      "outputs": [
        {
          "output_type": "stream",
          "name": "stdout",
          "text": [
            "MultinomialNB Accuracy: 0.649\n",
            "confusion matrix:\n",
            " [[153  70  44]\n",
            " [ 23 197 130]\n",
            " [  4  80 299]]\n",
            "-----------------------------------------------\n",
            "\n",
            "              precision    recall  f1-score   support\n",
            "\n",
            "           0       0.85      0.57      0.68       267\n",
            "           1       0.57      0.56      0.57       350\n",
            "           2       0.63      0.78      0.70       383\n",
            "\n",
            "    accuracy                           0.65      1000\n",
            "   macro avg       0.68      0.64      0.65      1000\n",
            "weighted avg       0.67      0.65      0.65      1000\n",
            "\n"
          ]
        }
      ]
    },
    {
      "cell_type": "code",
      "source": [
        "import seaborn as sns\n",
        "sns.heatmap(confusion_matrix(y_test, predicted), annot=True, cmap = 'Reds')"
      ],
      "metadata": {
        "colab": {
          "base_uri": "https://localhost:8080/",
          "height": 282
        },
        "id": "8f-WHIMncLJX",
        "outputId": "9579b14d-71ae-44bb-df0b-3dfbeb66d570"
      },
      "execution_count": 53,
      "outputs": [
        {
          "output_type": "execute_result",
          "data": {
            "text/plain": [
              "<matplotlib.axes._subplots.AxesSubplot at 0x7f1a6ec1db10>"
            ]
          },
          "metadata": {},
          "execution_count": 53
        },
        {
          "output_type": "display_data",
          "data": {
            "text/plain": [
              "<Figure size 432x288 with 2 Axes>"
            ],
            "image/png": "[encoded data removed]"
          },
          "metadata": {
            "needs_background": "light"
          }
        }
      ]
    },
    {
      "cell_type": "markdown",
      "source": [
        "##**Support Vector Machine**"
      ],
      "metadata": {
        "id": "e3YIV1rTyOKZ"
      }
    },
    {
      "cell_type": "code",
      "source": [
        "from sklearn.svm import SVC\n",
        "svm = SVC().fit(Train_X_Tfidf.toarray(), y_train)\n",
        "predictednb = svm.predict(Test_X_Tfidf.toarray())\n",
        "print(\"SVC Accuracy:\" , accuracy_score(y_test,predictednb))\n",
        "print(f'confusion matrix:\\n {confusion_matrix(y_test, predictednb)}')\n",
        "print('-----------------------------------------------\\n')\n",
        "print(classification_report(y_test,predictednb,zero_division=0))"
      ],
      "metadata": {
        "colab": {
          "base_uri": "https://localhost:8080/"
        },
        "id": "HV4bsUDvaJX1",
        "outputId": "e39f106b-2645-4fe4-96b6-04598205b580"
      },
      "execution_count": 54,
      "outputs": [
        {
          "output_type": "stream",
          "name": "stdout",
          "text": [
            "SVC Accuracy: 0.761\n",
            "confusion matrix:\n",
            " [[164  89  14]\n",
            " [ 24 275  51]\n",
            " [  5  56 322]]\n",
            "-----------------------------------------------\n",
            "\n",
            "              precision    recall  f1-score   support\n",
            "\n",
            "           0       0.85      0.61      0.71       267\n",
            "           1       0.65      0.79      0.71       350\n",
            "           2       0.83      0.84      0.84       383\n",
            "\n",
            "    accuracy                           0.76      1000\n",
            "   macro avg       0.78      0.75      0.75      1000\n",
            "weighted avg       0.77      0.76      0.76      1000\n",
            "\n"
          ]
        }
      ]
    },
    {
      "cell_type": "code",
      "source": [
        "import seaborn as sns\n",
        "sns.heatmap(confusion_matrix(y_test, predictednb), annot=True, cmap = 'Reds')"
      ],
      "metadata": {
        "colab": {
          "base_uri": "https://localhost:8080/",
          "height": 282
        },
        "id": "Aa1zqkTnbRs0",
        "outputId": "6d187378-de93-48e2-c53c-dc1c594e9886"
      },
      "execution_count": 55,
      "outputs": [
        {
          "output_type": "execute_result",
          "data": {
            "text/plain": [
              "<matplotlib.axes._subplots.AxesSubplot at 0x7f1a6f841590>"
            ]
          },
          "metadata": {},
          "execution_count": 55
        },
        {
          "output_type": "display_data",
          "data": {
            "text/plain": [
              "<Figure size 432x288 with 2 Axes>"
            ],
            "image/png": "[encoded data removed]"
          },
          "metadata": {
            "needs_background": "light"
          }
        }
      ]
    },
    {
      "cell_type": "markdown",
      "source": [
        "#**Modelling dengan Sastrawi Tala**"
      ],
      "metadata": {
        "id": "gULvm4KXgE_F"
      }
    },
    {
      "cell_type": "markdown",
      "source": [
        "##**Membagi Data Menjadi Train dan Test**"
      ],
      "metadata": {
        "id": "9JrveEtBgE_F"
      }
    },
    {
      "cell_type": "code",
      "source": [
        "from sklearn.model_selection import train_test_split\n",
        "X_train,X_test,y_train,y_test = train_test_split(df['Text_Clean_Tala'],df['polarity'],test_size = 0.2,random_state = 42)"
      ],
      "metadata": {
        "id": "-wEa4bjJgE_F"
      },
      "execution_count": 56,
      "outputs": []
    },
    {
      "cell_type": "markdown",
      "source": [
        "##**LabelEncoder dan TFIDF**"
      ],
      "metadata": {
        "id": "kHAGyDdkgE_F"
      }
    },
    {
      "cell_type": "code",
      "source": [
        "from sklearn.preprocessing import LabelEncoder\n",
        "Encoder = LabelEncoder()\n",
        "y_train = Encoder.fit_transform(y_train)\n",
        "y_test = Encoder.fit_transform(y_test)"
      ],
      "metadata": {
        "id": "3WBRwo1sgE_G"
      },
      "execution_count": 57,
      "outputs": []
    },
    {
      "cell_type": "code",
      "source": [
        "from sklearn.feature_extraction.text import TfidfVectorizer\n",
        "Tfidf_vect = TfidfVectorizer(max_features=510)\n",
        "Tfidf_vect.fit(df['Text_Clean'])\n",
        "Train_X_Tfidf = Tfidf_vect.transform(X_train)\n",
        "Test_X_Tfidf = Tfidf_vect.transform(X_test)"
      ],
      "metadata": {
        "id": "I8hvevmygE_G"
      },
      "execution_count": 58,
      "outputs": []
    },
    {
      "cell_type": "code",
      "source": [
        "Train_X_Tfidf.toarray()"
      ],
      "metadata": {
        "colab": {
          "base_uri": "https://localhost:8080/"
        },
        "outputId": "c8c16dee-9b60-4abf-cd97-88f7c44ab285",
        "id": "OftsaZBmgE_G"
      },
      "execution_count": 59,
      "outputs": [
        {
          "output_type": "execute_result",
          "data": {
            "text/plain": [
              "array([[0., 0., 0., ..., 0., 0., 0.],\n",
              "       [0., 0., 0., ..., 0., 0., 0.],\n",
              "       [0., 0., 0., ..., 0., 0., 0.],\n",
              "       ...,\n",
              "       [0., 0., 0., ..., 0., 0., 0.],\n",
              "       [0., 0., 0., ..., 0., 0., 0.],\n",
              "       [0., 0., 0., ..., 0., 0., 0.]])"
            ]
          },
          "metadata": {},
          "execution_count": 59
        }
      ]
    },
    {
      "cell_type": "markdown",
      "source": [
        "##**Multinomial Naive Bayes**"
      ],
      "metadata": {
        "id": "ZTRtTWshgE_G"
      }
    },
    {
      "cell_type": "code",
      "source": [
        "#klasifikasi naive bayes\n",
        "from sklearn.naive_bayes import MultinomialNB\n",
        "from sklearn.metrics import accuracy_score, precision_score, recall_score, f1_score\n",
        "from sklearn.metrics import classification_report\n",
        "from sklearn.metrics import confusion_matrix\n",
        "\n",
        "clf = MultinomialNB().fit(Train_X_Tfidf.toarray(), y_train)\n",
        "predicted = clf.predict(Test_X_Tfidf.toarray())\n",
        "print(\"MultinomialNB Accuracy:\" , accuracy_score(y_test,predicted))\n",
        "print(f'confusion matrix:\\n {confusion_matrix(y_test, predicted)}')\n",
        "print('-----------------------------------------------\\n')\n",
        "print(classification_report(y_test,predicted,zero_division=0))"
      ],
      "metadata": {
        "colab": {
          "base_uri": "https://localhost:8080/"
        },
        "outputId": "86c1fc26-7950-484d-93cb-727eb51fbc48",
        "id": "QZHcqaAZgE_H"
      },
      "execution_count": 60,
      "outputs": [
        {
          "output_type": "stream",
          "name": "stdout",
          "text": [
            "MultinomialNB Accuracy: 0.602\n",
            "confusion matrix:\n",
            " [[134  69  64]\n",
            " [ 29 167 154]\n",
            " [  8  74 301]]\n",
            "-----------------------------------------------\n",
            "\n",
            "              precision    recall  f1-score   support\n",
            "\n",
            "           0       0.78      0.50      0.61       267\n",
            "           1       0.54      0.48      0.51       350\n",
            "           2       0.58      0.79      0.67       383\n",
            "\n",
            "    accuracy                           0.60      1000\n",
            "   macro avg       0.63      0.59      0.60      1000\n",
            "weighted avg       0.62      0.60      0.60      1000\n",
            "\n"
          ]
        }
      ]
    },
    {
      "cell_type": "code",
      "source": [
        "import seaborn as sns\n",
        "sns.heatmap(confusion_matrix(y_test, predicted), annot=True, cmap = 'Reds')"
      ],
      "metadata": {
        "colab": {
          "base_uri": "https://localhost:8080/",
          "height": 286
        },
        "outputId": "f31e464a-b8ab-49e8-e799-caaec1c16459",
        "id": "vENyimQtgE_H"
      },
      "execution_count": 61,
      "outputs": [
        {
          "output_type": "execute_result",
          "data": {
            "text/plain": [
              "<matplotlib.axes._subplots.AxesSubplot at 0x7f1a967e4550>"
            ]
          },
          "metadata": {},
          "execution_count": 61
        },
        {
          "output_type": "display_data",
          "data": {
            "text/plain": [
              "<Figure size 432x288 with 2 Axes>"
            ],
            "image/png": "[encoded data removed]"
          },
          "metadata": {
            "needs_background": "light"
          }
        }
      ]
    },
    {
      "cell_type": "markdown",
      "source": [
        "##**Support Vector Machine**"
      ],
      "metadata": {
        "id": "bopHra7zgE_H"
      }
    },
    {
      "cell_type": "code",
      "source": [
        "from sklearn.svm import SVC\n",
        "svm = SVC().fit(Train_X_Tfidf.toarray(), y_train)\n",
        "predictednb = svm.predict(Test_X_Tfidf.toarray())\n",
        "print(\"SVC Accuracy:\" , accuracy_score(y_test,predictednb))\n",
        "print(f'confusion matrix:\\n {confusion_matrix(y_test, predictednb)}')\n",
        "print('-----------------------------------------------\\n')\n",
        "print(classification_report(y_test,predictednb,zero_division=0))"
      ],
      "metadata": {
        "colab": {
          "base_uri": "https://localhost:8080/"
        },
        "outputId": "69816750-09aa-44e7-ef86-c46664f963fa",
        "id": "mtJqpaPBgE_I"
      },
      "execution_count": 62,
      "outputs": [
        {
          "output_type": "stream",
          "name": "stdout",
          "text": [
            "SVC Accuracy: 0.725\n",
            "confusion matrix:\n",
            " [[145 109  13]\n",
            " [ 36 266  48]\n",
            " [ 10  59 314]]\n",
            "-----------------------------------------------\n",
            "\n",
            "              precision    recall  f1-score   support\n",
            "\n",
            "           0       0.76      0.54      0.63       267\n",
            "           1       0.61      0.76      0.68       350\n",
            "           2       0.84      0.82      0.83       383\n",
            "\n",
            "    accuracy                           0.73      1000\n",
            "   macro avg       0.74      0.71      0.71      1000\n",
            "weighted avg       0.74      0.72      0.72      1000\n",
            "\n"
          ]
        }
      ]
    },
    {
      "cell_type": "code",
      "source": [
        "import seaborn as sns\n",
        "sns.heatmap(confusion_matrix(y_test, predictednb), annot=True, cmap = 'Reds')"
      ],
      "metadata": {
        "colab": {
          "base_uri": "https://localhost:8080/",
          "height": 282
        },
        "outputId": "6ddf1b61-cf0c-4150-8209-369b8c86aeaa",
        "id": "f2yGxGUagE_I"
      },
      "execution_count": 63,
      "outputs": [
        {
          "output_type": "execute_result",
          "data": {
            "text/plain": [
              "<matplotlib.axes._subplots.AxesSubplot at 0x7f1a6e31fa50>"
            ]
          },
          "metadata": {},
          "execution_count": 63
        },
        {
          "output_type": "display_data",
          "data": {
            "text/plain": [
              "<Figure size 432x288 with 2 Axes>"
            ],
            "image/png": "[encoded data removed]"
          },
          "metadata": {
            "needs_background": "light"
          }
        }
      ]
    },
    {
      "cell_type": "markdown",
      "source": [
        "#**Kesimpulan Akhir**"
      ],
      "metadata": {
        "id": "zTsp5w5tC5CK"
      }
    },
    {
      "cell_type": "markdown",
      "source": [
        "Metode Support Vector Machine dan Multinomial Naive Bayes berhasil melakukan klasifikasi pada data teks tweet terkait Indihome. Proses stemming dilakukan dengan dua package yang berbeda, yaitu Sastrawi dan Tala, hasilnya akurasi metode dengan menggunakan stemming Sastrawi lebih baik yaitu akurasi Multinomial Naive Bayes sebesar 65% dan Support Vector Machine sebesar 76%."
      ],
      "metadata": {
        "id": "56HWAkkMC7_p"
      }
    }
  ],
  "metadata": {
    "kernelspec": {
      "display_name": "Python 3",
      "language": "python",
      "name": "python3"
    },
    "language_info": {
      "codemirror_mode": {
        "name": "ipython",
        "version": 3
      },
      "file_extension": ".py",
      "mimetype": "text/x-python",
      "name": "python",
      "nbconvert_exporter": "python",
      "pygments_lexer": "ipython3",
      "version": "3.8.5"
    },
    "colab": {
      "provenance": [],
      "collapsed_sections": [],
      "toc_visible": true,
      "include_colab_link": true
    }
  },
  "nbformat": 4,
  "nbformat_minor": 0
}