{
  "nbformat": 4,
  "nbformat_minor": 0,
  "metadata": {
    "colab": {
      "provenance": [],
      "authorship_tag": "ABX9TyN6dseHvNTdbNrcAF9jx00Q",
      "include_colab_link": true
    },
    "kernelspec": {
      "name": "python3",
      "display_name": "Python 3"
    },
    "language_info": {
      "name": "python"
    }
  },
  "cells": [
    {
      "cell_type": "markdown",
      "metadata": {
        "id": "view-in-github",
        "colab_type": "text"
      },
      "source": [
        "<a href=\"https://colab.research.google.com/github/fawazdhianabil/Project/blob/main/Basic_Python.ipynb\" target=\"_parent\"><img src=\"https://colab.research.google.com/assets/colab-badge.svg\" alt=\"Open In Colab\"/></a>"
      ]
    },
    {
      "cell_type": "markdown",
      "source": [
        "# **Nomor 1**"
      ],
      "metadata": {
        "id": "ItOHUR0m7wWR"
      }
    },
    {
      "cell_type": "code",
      "source": [
        "def nomor1(a,b): # fungsi nomor1 dengan parameter a,b\n",
        "  if len(a)>1: # jika panjang list lebih dari 1\n",
        "    b = b # b sama dengan b\n",
        "    a = a[len(a)-b:] # mengambil element\n",
        "    b = b - 1 # mengurangi nilai b\n",
        "    print(' '.join(map(str,a))) # menampilkan element\n",
        "    return nomor1(a,b) # memanggil fungsi nomor1"
      ],
      "metadata": {
        "id": "FT2_MOUfqMxX"
      },
      "execution_count": 1,
      "outputs": []
    },
    {
      "cell_type": "code",
      "source": [
        "nomor1([1,3,5,7,9],5)"
      ],
      "metadata": {
        "colab": {
          "base_uri": "https://localhost:8080/"
        },
        "id": "a__v3vlVxr0j",
        "outputId": "61c080c9-9bfa-4542-de0d-191b8d60fc9a"
      },
      "execution_count": 2,
      "outputs": [
        {
          "output_type": "stream",
          "name": "stdout",
          "text": [
            "1 3 5 7 9\n",
            "3 5 7 9\n",
            "5 7 9\n",
            "7 9\n",
            "9\n"
          ]
        }
      ]
    },
    {
      "cell_type": "markdown",
      "source": [
        "# **Nomor 2**"
      ],
      "metadata": {
        "id": "PKM8mGEGgrPt"
      }
    },
    {
      "cell_type": "code",
      "source": [
        "import numpy as np \n",
        "randnums = np.array([18,15,57,54,62,16,95,28,76,83,71,84,38,57,78,96,34,\n",
        "                     66,39,50,32,25,80,29,54,28,65,15,26,8,61,66,25,38,\n",
        "                     78,99,14,49,43,2,80,65,18,30,25,65,30,66,64,81,66,\n",
        "                     5,16,44,12,24,78,89,5,96,61,7,97,59,22,8,3,19,\n",
        "                     72,33,72,22,56,53,36,83,69,22,70,6,26,40,89,97,44,\n",
        "                     40,83,18,80,89,61,91,19,61,56,16,29,11,26,92])"
      ],
      "metadata": {
        "id": "ASzRaM9OgcLJ"
      },
      "execution_count": 3,
      "outputs": []
    },
    {
      "cell_type": "code",
      "source": [
        "def bilangan_tiga_dan_lima(randnums):\n",
        "  arr_3 = [] # list kosong\n",
        "  arr_5 = [] # list kosong\n",
        "  for angka in randnums: # membuat perulangan\n",
        "    if angka % 3 == 0: # jika modulo 3 terpenuhi\n",
        "      arr_3.append(1) # tambah nilai 1\n",
        "  for angka in randnums: # membuat perulangan\n",
        "    if angka % 5 == 0: # jika modulo 5 terpenuhi\n",
        "      arr_5.append(1) # tambah nilai 1\n",
        "  # menampilkan panjang data\n",
        "  print('jumlah kemunculan nilai yang habis dibagi 3 adalah :',len(arr_3))\n",
        "  print('jumlah kemunculan nilai yang habis dibagi 5 adalah :',len(arr_5))"
      ],
      "metadata": {
        "id": "y7U_ZwUwhfFF"
      },
      "execution_count": 4,
      "outputs": []
    },
    {
      "cell_type": "code",
      "source": [
        "bilangan_tiga_dan_lima(randnums)"
      ],
      "metadata": {
        "colab": {
          "base_uri": "https://localhost:8080/"
        },
        "id": "WVIpBIMWhlkU",
        "outputId": "39755778-d749-45ca-9722-6f2f3234eb32"
      },
      "execution_count": 5,
      "outputs": [
        {
          "output_type": "stream",
          "name": "stdout",
          "text": [
            "jumlah kemunculan nilai yang habis dibagi 3 adalah : 33\n",
            "jumlah kemunculan nilai yang habis dibagi 5 adalah : 20\n"
          ]
        }
      ]
    },
    {
      "cell_type": "markdown",
      "source": [
        "# **Nomor 3**"
      ],
      "metadata": {
        "id": "Vjn4P-5bkNHQ"
      }
    },
    {
      "cell_type": "code",
      "source": [
        "arr1 = ['mobil 1', 'mobil 2', 'mobil 3', 'mobil 4', 'mobil 5', 'mobil 6', 'mobil 7']\n",
        "arr2 = ['bus 1', 'bus 2','bus 3', 'bus 4']\n",
        "arr3 = ['motor 1', 'motor 2', 'motor 3', 'motor 4', 'motor 5', 'motor 6']\n",
        "arr4 = ['truck 1','truck 2','truck 3', 'truck 4', 'truck 5']\n",
        "arr5 = ['kucing 1', 'kucing 2', 'kucing 3', 'kucing 4', 'kucing 5', 'kucing 6', 'kucing 7', 'kucing 8']"
      ],
      "metadata": {
        "id": "9GxW4ENIklI6"
      },
      "execution_count": 6,
      "outputs": []
    },
    {
      "cell_type": "code",
      "source": [
        "def bolak_balik(arr): # fungsi bolak balik dengan paramater arr\n",
        "  # membuat variabel arr dengan menggunakan fungsi sorted() untuk mengurutkan element\n",
        "  arr = sorted(arr,key=lambda x: int(''.join(filter(str.isdigit, x))),reverse=True)\n",
        "  return arr"
      ],
      "metadata": {
        "id": "BVzidArhkPy2"
      },
      "execution_count": 7,
      "outputs": []
    },
    {
      "cell_type": "code",
      "source": [
        "arr1 = bolak_balik(arr1)\n",
        "arr1"
      ],
      "metadata": {
        "colab": {
          "base_uri": "https://localhost:8080/"
        },
        "id": "aWZiYPsBlWAC",
        "outputId": "829a87de-4b81-4669-bdf0-a74018a2f70b"
      },
      "execution_count": 8,
      "outputs": [
        {
          "output_type": "execute_result",
          "data": {
            "text/plain": [
              "['mobil 7', 'mobil 6', 'mobil 5', 'mobil 4', 'mobil 3', 'mobil 2', 'mobil 1']"
            ]
          },
          "metadata": {},
          "execution_count": 8
        }
      ]
    },
    {
      "cell_type": "code",
      "source": [
        "arr2 = bolak_balik(arr2)\n",
        "arr2"
      ],
      "metadata": {
        "colab": {
          "base_uri": "https://localhost:8080/"
        },
        "id": "C6078_ERl6FS",
        "outputId": "befc1e53-f803-4c19-be31-6040846739f8"
      },
      "execution_count": 9,
      "outputs": [
        {
          "output_type": "execute_result",
          "data": {
            "text/plain": [
              "['bus 4', 'bus 3', 'bus 2', 'bus 1']"
            ]
          },
          "metadata": {},
          "execution_count": 9
        }
      ]
    },
    {
      "cell_type": "code",
      "source": [
        "arr3 = bolak_balik(arr3)\n",
        "arr3"
      ],
      "metadata": {
        "colab": {
          "base_uri": "https://localhost:8080/"
        },
        "id": "zl8NQ1-Ol6hl",
        "outputId": "d22a99d9-9415-4842-b815-ddc8cbea52e3"
      },
      "execution_count": 10,
      "outputs": [
        {
          "output_type": "execute_result",
          "data": {
            "text/plain": [
              "['motor 6', 'motor 5', 'motor 4', 'motor 3', 'motor 2', 'motor 1']"
            ]
          },
          "metadata": {},
          "execution_count": 10
        }
      ]
    },
    {
      "cell_type": "code",
      "source": [
        "arr4 = bolak_balik(arr4)\n",
        "arr4"
      ],
      "metadata": {
        "colab": {
          "base_uri": "https://localhost:8080/"
        },
        "id": "k_WGNI8hoLuW",
        "outputId": "c432d44e-8090-4c6d-f6f1-21d27cada9ee"
      },
      "execution_count": 11,
      "outputs": [
        {
          "output_type": "execute_result",
          "data": {
            "text/plain": [
              "['truck 5', 'truck 4', 'truck 3', 'truck 2', 'truck 1']"
            ]
          },
          "metadata": {},
          "execution_count": 11
        }
      ]
    },
    {
      "cell_type": "code",
      "source": [
        "arr5 = bolak_balik(arr5)\n",
        "arr5"
      ],
      "metadata": {
        "colab": {
          "base_uri": "https://localhost:8080/"
        },
        "id": "RPB6ZOvWoNUV",
        "outputId": "a66db6e2-09df-41c1-9ebf-2918e26c530a"
      },
      "execution_count": 12,
      "outputs": [
        {
          "output_type": "execute_result",
          "data": {
            "text/plain": [
              "['kucing 8',\n",
              " 'kucing 7',\n",
              " 'kucing 6',\n",
              " 'kucing 5',\n",
              " 'kucing 4',\n",
              " 'kucing 3',\n",
              " 'kucing 2',\n",
              " 'kucing 1']"
            ]
          },
          "metadata": {},
          "execution_count": 12
        }
      ]
    }
  ]
}